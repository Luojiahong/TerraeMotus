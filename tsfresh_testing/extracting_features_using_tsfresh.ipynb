{
 "cells": [
  {
   "cell_type": "code",
   "execution_count": 1,
   "metadata": {},
   "outputs": [],
   "source": [
    "import tsfresh\n",
    "import numpy as np\n",
    "import matplotlib.pyplot as plt\n",
    "import pandas as pd\n",
    "from pathlib import Path\n",
    "import os\n",
    "\n",
    "%matplotlib inline"
   ]
  },
  {
   "cell_type": "markdown",
   "metadata": {},
   "source": [
    "## Load dataset"
   ]
  },
  {
   "cell_type": "code",
   "execution_count": 2,
   "metadata": {},
   "outputs": [
    {
     "name": "stdout",
     "output_type": "stream",
     "text": [
      "(10800, 383)\n"
     ]
    }
   ],
   "source": [
    "wd = Path(os.getcwd()).parent\n",
    "fname = Path(os.path.join(wd, 'Datasets', 'DataLowRes_M_3_R_0.5_S_4_Sec_10800.npy'))\n",
    "data = np.load(fname)\n",
    "print(data.shape)\n",
    "data_flat = data.flatten(order='F')\n",
    "data_id = np.repeat(np.arange(data.shape[1]), data.shape[0])\n",
    "df = pd.DataFrame(data = np.stack((data_flat, data_id), axis=1), columns=['data', 'id'])\n",
    "\n",
    "#df = df[:3000]"
   ]
  },
  {
   "cell_type": "markdown",
   "metadata": {},
   "source": [
    "## Extract features"
   ]
  },
  {
   "cell_type": "code",
   "execution_count": 3,
   "metadata": {},
   "outputs": [
    {
     "name": "stderr",
     "output_type": "stream",
     "text": [
      "Feature Extraction: 100%|██████████| 1/1 [00:35<00:00, 35.97s/it]\n"
     ]
    }
   ],
   "source": [
    "features = tsfresh.extract_features(df, column_id = 'id')"
   ]
  },
  {
   "cell_type": "code",
   "execution_count": 4,
   "metadata": {},
   "outputs": [
    {
     "data": {
      "text/html": [
       "<div>\n",
       "<style scoped>\n",
       "    .dataframe tbody tr th:only-of-type {\n",
       "        vertical-align: middle;\n",
       "    }\n",
       "\n",
       "    .dataframe tbody tr th {\n",
       "        vertical-align: top;\n",
       "    }\n",
       "\n",
       "    .dataframe thead th {\n",
       "        text-align: right;\n",
       "    }\n",
       "</style>\n",
       "<table border=\"1\" class=\"dataframe\">\n",
       "  <thead>\n",
       "    <tr style=\"text-align: right;\">\n",
       "      <th>variable</th>\n",
       "      <th>data__abs_energy</th>\n",
       "      <th>data__absolute_sum_of_changes</th>\n",
       "      <th>data__agg_autocorrelation__f_agg_\"mean\"</th>\n",
       "      <th>data__agg_autocorrelation__f_agg_\"median\"</th>\n",
       "      <th>data__agg_autocorrelation__f_agg_\"var\"</th>\n",
       "      <th>data__agg_linear_trend__f_agg_\"max\"__chunk_len_10__attr_\"intercept\"</th>\n",
       "      <th>data__agg_linear_trend__f_agg_\"max\"__chunk_len_10__attr_\"rvalue\"</th>\n",
       "      <th>data__agg_linear_trend__f_agg_\"max\"__chunk_len_10__attr_\"slope\"</th>\n",
       "      <th>data__agg_linear_trend__f_agg_\"max\"__chunk_len_10__attr_\"stderr\"</th>\n",
       "      <th>data__agg_linear_trend__f_agg_\"max\"__chunk_len_50__attr_\"intercept\"</th>\n",
       "      <th>...</th>\n",
       "      <th>data__time_reversal_asymmetry_statistic__lag_1</th>\n",
       "      <th>data__time_reversal_asymmetry_statistic__lag_2</th>\n",
       "      <th>data__time_reversal_asymmetry_statistic__lag_3</th>\n",
       "      <th>data__value_count__value_-inf</th>\n",
       "      <th>data__value_count__value_0</th>\n",
       "      <th>data__value_count__value_1</th>\n",
       "      <th>data__value_count__value_inf</th>\n",
       "      <th>data__value_count__value_nan</th>\n",
       "      <th>data__variance</th>\n",
       "      <th>data__variance_larger_than_standard_deviation</th>\n",
       "    </tr>\n",
       "    <tr>\n",
       "      <th>id</th>\n",
       "      <th></th>\n",
       "      <th></th>\n",
       "      <th></th>\n",
       "      <th></th>\n",
       "      <th></th>\n",
       "      <th></th>\n",
       "      <th></th>\n",
       "      <th></th>\n",
       "      <th></th>\n",
       "      <th></th>\n",
       "      <th></th>\n",
       "      <th></th>\n",
       "      <th></th>\n",
       "      <th></th>\n",
       "      <th></th>\n",
       "      <th></th>\n",
       "      <th></th>\n",
       "      <th></th>\n",
       "      <th></th>\n",
       "      <th></th>\n",
       "      <th></th>\n",
       "    </tr>\n",
       "  </thead>\n",
       "  <tbody>\n",
       "    <tr>\n",
       "      <th>0</th>\n",
       "      <td>2.016370e+09</td>\n",
       "      <td>2582521.0</td>\n",
       "      <td>-0.007971</td>\n",
       "      <td>0.000993</td>\n",
       "      <td>0.154215</td>\n",
       "      <td>-884.796633</td>\n",
       "      <td>0.065276</td>\n",
       "      <td>0.539933</td>\n",
       "      <td>0.478135</td>\n",
       "      <td>1.72623</td>\n",
       "      <td>...</td>\n",
       "      <td>2.641851e+07</td>\n",
       "      <td>-1.031977e+07</td>\n",
       "      <td>696004.566132</td>\n",
       "      <td>0.0</td>\n",
       "      <td>0.0</td>\n",
       "      <td>0.0</td>\n",
       "      <td>0.0</td>\n",
       "      <td>0.0</td>\n",
       "      <td>1.545535e+06</td>\n",
       "      <td>1.0</td>\n",
       "    </tr>\n",
       "  </tbody>\n",
       "</table>\n",
       "<p>1 rows × 794 columns</p>\n",
       "</div>"
      ],
      "text/plain": [
       "variable  data__abs_energy  data__absolute_sum_of_changes  \\\n",
       "id                                                          \n",
       "0             2.016370e+09                      2582521.0   \n",
       "\n",
       "variable  data__agg_autocorrelation__f_agg_\"mean\"  \\\n",
       "id                                                  \n",
       "0                                       -0.007971   \n",
       "\n",
       "variable  data__agg_autocorrelation__f_agg_\"median\"  \\\n",
       "id                                                    \n",
       "0                                          0.000993   \n",
       "\n",
       "variable  data__agg_autocorrelation__f_agg_\"var\"  \\\n",
       "id                                                 \n",
       "0                                       0.154215   \n",
       "\n",
       "variable  data__agg_linear_trend__f_agg_\"max\"__chunk_len_10__attr_\"intercept\"  \\\n",
       "id                                                                              \n",
       "0                                               -884.796633                     \n",
       "\n",
       "variable  data__agg_linear_trend__f_agg_\"max\"__chunk_len_10__attr_\"rvalue\"  \\\n",
       "id                                                                           \n",
       "0                                                  0.065276                  \n",
       "\n",
       "variable  data__agg_linear_trend__f_agg_\"max\"__chunk_len_10__attr_\"slope\"  \\\n",
       "id                                                                          \n",
       "0                                                  0.539933                 \n",
       "\n",
       "variable  data__agg_linear_trend__f_agg_\"max\"__chunk_len_10__attr_\"stderr\"  \\\n",
       "id                                                                           \n",
       "0                                                  0.478135                  \n",
       "\n",
       "variable  data__agg_linear_trend__f_agg_\"max\"__chunk_len_50__attr_\"intercept\"  \\\n",
       "id                                                                              \n",
       "0                                                   1.72623                     \n",
       "\n",
       "variable                      ...                        \\\n",
       "id                            ...                         \n",
       "0                             ...                         \n",
       "\n",
       "variable  data__time_reversal_asymmetry_statistic__lag_1  \\\n",
       "id                                                         \n",
       "0                                           2.641851e+07   \n",
       "\n",
       "variable  data__time_reversal_asymmetry_statistic__lag_2  \\\n",
       "id                                                         \n",
       "0                                          -1.031977e+07   \n",
       "\n",
       "variable  data__time_reversal_asymmetry_statistic__lag_3  \\\n",
       "id                                                         \n",
       "0                                          696004.566132   \n",
       "\n",
       "variable  data__value_count__value_-inf  data__value_count__value_0  \\\n",
       "id                                                                    \n",
       "0                                   0.0                         0.0   \n",
       "\n",
       "variable  data__value_count__value_1  data__value_count__value_inf  \\\n",
       "id                                                                   \n",
       "0                                0.0                           0.0   \n",
       "\n",
       "variable  data__value_count__value_nan  data__variance  \\\n",
       "id                                                       \n",
       "0                                  0.0    1.545535e+06   \n",
       "\n",
       "variable  data__variance_larger_than_standard_deviation  \n",
       "id                                                       \n",
       "0                                                   1.0  \n",
       "\n",
       "[1 rows x 794 columns]"
      ]
     },
     "execution_count": 4,
     "metadata": {},
     "output_type": "execute_result"
    }
   ],
   "source": [
    "features.head()"
   ]
  },
  {
   "cell_type": "code",
   "execution_count": null,
   "metadata": {},
   "outputs": [],
   "source": [
    "features.to_csv('ExtractedFeatures.csv', sep=',')"
   ]
  },
  {
   "cell_type": "code",
   "execution_count": null,
   "metadata": {},
   "outputs": [],
   "source": []
  }
 ],
 "metadata": {
  "kernelspec": {
   "display_name": "Python 3",
   "language": "python",
   "name": "python3"
  },
  "language_info": {
   "codemirror_mode": {
    "name": "ipython",
    "version": 3
   },
   "file_extension": ".py",
   "mimetype": "text/x-python",
   "name": "python",
   "nbconvert_exporter": "python",
   "pygments_lexer": "ipython3",
   "version": "3.6.5"
  }
 },
 "nbformat": 4,
 "nbformat_minor": 2
}
