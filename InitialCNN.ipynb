{
 "cells": [
  {
   "cell_type": "markdown",
   "metadata": {},
   "source": [
    "# Introduction\n",
    "We will attempt to use convonlutional neural network on the dataset. This is the initial attempt so we will apply it on a very small dataset on the raw data in one channel (vertical). First, let us import the required packages including tensorflow."
   ]
  },
  {
   "cell_type": "code",
   "execution_count": 11,
   "metadata": {},
   "outputs": [],
   "source": [
    "import tensorflow as tf;\n",
    "import matplotlib.pyplot as plt\n",
    "import numpy as np\n",
    "\n",
    "from obspy.taup import TauPyModel\n",
    "from obspy.geodetics import gps2dist_azimuth, kilometer2degrees\n",
    "\n",
    "import pickle"
   ]
  },
  {
   "cell_type": "markdown",
   "metadata": {},
   "source": [
    "Let us define a retrieval function to be used for getting the data"
   ]
  },
  {
   "cell_type": "code",
   "execution_count": 9,
   "metadata": {},
   "outputs": [],
   "source": [
    "def getSeismograms(clinetName, networkName,  stationName, startTime, endTime, timeBefore, timeAfter, minMagnitude=0, maxRadius=3):\n",
    "    '''\n",
    "    Get seismigrams (orginal raw strems) based on search defined by the user.\n",
    "    '''\n",
    "    \n",
    "    # Find the possible earthquakes and put them in a catalog\n",
    "    client = Client(clientName)\n",
    "    inventory = client.get_stations(network=networkName, station=stationName)\n",
    "    station = inventory[0][0]\n",
    "    cat = client.get_events(starttime=startTime, endtime=endTime, minmagnitude=minMagnitude, latitude=station.latitude, longitude=station.longitude, maxradius=maxRadius)\n",
    "    \n",
    "    # Get the stream for each event\n",
    "    model = TauPyModel(model=\"iasp91\")\n",
    "    \n",
    "    nEvents = len(cat)\n",
    "    stList = []\n",
    "    for i in range(0, nEvents):\n",
    "        try:\n",
    "            event = cat[i]\n",
    "            origin = event.origins[0]\n",
    "            distance, _, _ = gps2dist_azimuth(origin.latitude, origin.longitude, station.latitude, station.longitude)\n",
    "            distance = kilometer2degrees(distance / 1e3)\n",
    "            arrivals = model.get_travel_times(origin.depth / 1e3, distance)\n",
    "            traveltime = arrivals[0].time\n",
    "            arrival_time = origin.time + traveltime\n",
    "\n",
    "            # Get the earthquake signal and store its needed information\n",
    "            st = client.get_waveforms(network=networkName, station=stationName, location=\"00\", channel=channelName, starttime=arrival_time-timeBefore, endtime=arrival_time+timeAfter)\n",
    "            stList.append(st)\n",
    "        except:\n",
    "            pass\n",
    "\n",
    "    return stList"
   ]
  },
  {
   "cell_type": "markdown",
   "metadata": {},
   "source": [
    "let us make a function that save and load the list of seismogram. It is a list of objects so we have to use the package pickle which is included in python by default."
   ]
  },
  {
   "cell_type": "code",
   "execution_count": 13,
   "metadata": {},
   "outputs": [],
   "source": [
    "def saveList(listToSave, fileName = 'SavedList.dat'):\n",
    "    '''\n",
    "    Save a list into a file.\n",
    "    '''\n",
    "    pickle.dump( listToSave, open(fileName, \"wb\" ))\n",
    "\n",
    "\n",
    "def loadList(fileName):\n",
    "    '''\n",
    "    Load a list from a file\n",
    "    '''\n",
    "    loadedList = pickle.load( open( fileName, \"rb\" ))\n",
    "    return loadedList"
   ]
  },
  {
   "cell_type": "markdown",
   "metadata": {},
   "source": [
    "Finally, we define a function to extract the data to numpy format for further analysis."
   ]
  },
  {
   "cell_type": "code",
   "execution_count": null,
   "metadata": {},
   "outputs": [],
   "source": [
    "def st2numpy(st):\n",
    "    '''\n",
    "    Retrive import information from the seismogram\n",
    "    '''\n",
    "    trace = st.pop()\n",
    "    data = trace.data\n",
    "    time = trace.times('matplotlib')\n",
    "    return time, data\n",
    "\n",
    "def stList2numpy(stList, isSplit=false, splitLocation=.5):\n",
    "    return false\n",
    "    "
   ]
  },
  {
   "cell_type": "markdown",
   "metadata": {},
   "source": [
    "# Building the dataset\n",
    "Now, let us retrieve the dataset and save it."
   ]
  },
  {
   "cell_type": "code",
   "execution_count": null,
   "metadata": {},
   "outputs": [],
   "source": []
  }
 ],
 "metadata": {
  "kernelspec": {
   "display_name": "Python 3",
   "language": "python",
   "name": "python3"
  },
  "language_info": {
   "codemirror_mode": {
    "name": "ipython",
    "version": 3
   },
   "file_extension": ".py",
   "mimetype": "text/x-python",
   "name": "python",
   "nbconvert_exporter": "python",
   "pygments_lexer": "ipython3",
   "version": "3.6.4"
  }
 },
 "nbformat": 4,
 "nbformat_minor": 2
}
