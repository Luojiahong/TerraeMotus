{
 "cells": [
  {
   "cell_type": "code",
   "execution_count": 74,
   "metadata": {
    "scrolled": true
   },
   "outputs": [],
   "source": [
    "import math\n",
    "import numpy as np\n",
    "import h5py\n",
    "import matplotlib.pyplot as plt\n",
    "import scipy\n",
    "#from PIL import Image\n",
    "from scipy import ndimage\n",
    "import tensorflow as tf\n",
    "from tensorflow.python.framework import ops\n",
    "from cnn_utils import *\n",
    "from sklearn.decomposition import PCA\n",
    "from scipy.stats.mstats import zscore # This is to standardized the parameters\n",
    "\n",
    "from keras.callbacks import ModelCheckpoint\n",
    "from keras.models import Model, load_model, Sequential\n",
    "from keras.layers import Dense, Activation, Dropout, Input, Masking, TimeDistributed, LSTM, Conv1D, Conv2D\n",
    "from keras.layers import GRU, Bidirectional, BatchNormalization, Reshape\n",
    "from keras.layers import Flatten\n",
    "from keras.optimizers import Adam\n",
    "\n",
    "%matplotlib inline\n",
    "np.random.seed(1)"
   ]
  },
  {
   "cell_type": "markdown",
   "metadata": {},
   "source": [
    "## 1. Load Data"
   ]
  },
  {
   "cell_type": "code",
   "execution_count": 75,
   "metadata": {},
   "outputs": [],
   "source": [
    "import math as M\n",
    "from matplotlib import mlab\n",
    "from matplotlib.colors import Normalize\n",
    "from obspy.imaging.cm import obspy_sequential\n",
    "import matplotlib.pyplot as plt\n",
    "from skimage.transform import resize\n",
    "import scipy\n",
    "\n",
    "def getSpectogram(data, samp_rate, per_lap=0.9, wlen=None, log=False,\n",
    "                outfile=None, fmt=None, axes=None, dbscale=False,\n",
    "                mult=8.0, zorder=None, title=None,\n",
    "                show=True, sphinx=False, clip=[0.0, 1.0]):\n",
    "    \n",
    "    # enforce float for samp_rate\n",
    "    samp_rate = float(samp_rate)\n",
    "\n",
    "    # set wlen from samp_rate if not specified otherwise\n",
    "    if not wlen:\n",
    "        wlen = samp_rate / 100.\n",
    "\n",
    "    npts = len(data)\n",
    "    # nfft needs to be an integer, otherwise a deprecation will be raised\n",
    "    # XXX add condition for too many windows => calculation takes for ever\n",
    "    nfft = int(_nearest_pow_2(wlen * samp_rate))\n",
    "    if nfft > npts:\n",
    "        nfft = int(_nearest_pow_2(npts / 8.0))\n",
    "\n",
    "    if mult is not None:\n",
    "        mult = int(_nearest_pow_2(mult))\n",
    "        mult = mult * nfft\n",
    "    nlap = int(nfft * float(per_lap))\n",
    "\n",
    "    data = data - data.mean()\n",
    "    end = npts / samp_rate\n",
    "\n",
    "    \n",
    "    specgram, freq, time = mlab.specgram(data, Fs=samp_rate, NFFT=nfft,\n",
    "                                         pad_to=mult, noverlap=nlap)\n",
    "    # db scale and remove zero/offset for amplitude\n",
    "    if dbscale:\n",
    "        specgram = 10 * np.log10(specgram[1:, :])\n",
    "    else:\n",
    "        specgram = np.sqrt(specgram[1:, :])\n",
    "    freq = freq[1:]\n",
    "\n",
    "    vmin, vmax = clip\n",
    "    if vmin < 0 or vmax > 1 or vmin >= vmax:\n",
    "        msg = \"Invalid parameters for clip option.\"\n",
    "        raise ValueError(msg)\n",
    "    _range = float(specgram.max() - specgram.min())\n",
    "    vmin = specgram.min() + vmin * _range\n",
    "    vmax = specgram.min() + vmax * _range\n",
    "    norm = Normalize(vmin, vmax, clip=True)\n",
    "    \n",
    "    return freq,time,specgram\n",
    "\n",
    "\n",
    "def _nearest_pow_2(x):\n",
    "    \"\"\"\n",
    "    Find power of two nearest to x\n",
    "\n",
    "    >>> _nearest_pow_2(3)\n",
    "    2.0\n",
    "    >>> _nearest_pow_2(15)\n",
    "    16.0\n",
    "\n",
    "    :type x: float\n",
    "    :param x: Number\n",
    "    :rtype: Int\n",
    "    :return: Nearest power of 2 to x\n",
    "    \"\"\"\n",
    "    a = M.pow(2, M.ceil(np.log2(x)))\n",
    "    b = M.pow(2, M.floor(np.log2(x)))\n",
    "    if abs(a - x) < abs(b - x):\n",
    "        return a\n",
    "    else:\n",
    "        return b"
   ]
  },
  {
   "cell_type": "code",
   "execution_count": 76,
   "metadata": {},
   "outputs": [
    {
     "name": "stdout",
     "output_type": "stream",
     "text": [
      "(30000, 1312)\n",
      "(1312, 1)\n",
      "(30000, 1312)\n",
      "0.016666666666666666\n",
      "(64, 128)\n",
      "(30000, 1312)\n",
      "(1312, 1)\n",
      "[1]\n"
     ]
    },
    {
     "name": "stderr",
     "output_type": "stream",
     "text": [
      "C:\\Users\\jhpark3\\AppData\\Local\\Continuum\\anaconda3\\lib\\site-packages\\ipykernel_launcher.py:29: DeprecationWarning: `imresize` is deprecated!\n",
      "`imresize` is deprecated in SciPy 1.0.0, and will be removed in 1.2.0.\n",
      "Use ``skimage.transform.resize`` instead.\n"
     ]
    },
    {
     "data": {
      "image/png": "[encoded data removed]",
      "text/plain": [
       "<matplotlib.figure.Figure at 0x12a36aafbe0>"
      ]
     },
     "metadata": {},
     "output_type": "display_data"
    }
   ],
   "source": [
    "events = np.load(\"NewDatasets/Data_D11.npy\")\n",
    "label = np.load(\"NewDatasets/Label_D11.npy\")\n",
    "times = np.load(\"NewDatasets/Time_D11.npy\")\n",
    "\n",
    "events=events.reshape([events.shape[0],events.shape[1]])\n",
    "times=times[:,:label.shape[0]]\n",
    "\n",
    "\n",
    "\n",
    "#print(times)\n",
    "#events = np.load(\"Datasets/DataDetection_M_2.8_R_0.5_S_4_Sec_256.npy\")\n",
    "#label = np.load(\"Datasets/LabelDetection_M_2.8_R_0.5_S_4_Sec_256.npy\")\n",
    "#times=np.load(\"Datasets/TimeDetection_M_2.8_R_0.5_S_4_Sec_256.npy\")\n",
    "\n",
    "print(events.shape)\n",
    "print(label.shape)\n",
    "print(times.shape)\n",
    "#times = np.load(\"Datasets/TimeDetection_M_2.8_R_0.5_S_4_Sec_256.npy\") # features, # samples\n",
    "times = (times - times[0,:]) * 3600 * 24 # set time to 0 and in seconds\n",
    "\n",
    "fs = (times[:,0] < 60).nonzero()[0].shape[0] / 60 # sampling frequency\n",
    "print(fs)\n",
    "fs=100\n",
    "from scipy.signal import spectrogram\n",
    "\n",
    "eventNumber = 0\n",
    "freq , time, Sxx = getSpectogram(events[:,eventNumber], fs, dbscale = True)\n",
    "#Sxx = scipy.misc.imresize(Sxx, [64, 64])\n",
    "Sxx = scipy.misc.imresize(Sxx, [64, 128])\n",
    "spectrogram_shape = Sxx.shape\n",
    "print(spectrogram_shape)\n",
    "print(events.shape)\n",
    "print(label.shape)\n",
    "\n",
    "plt.imshow(Sxx)\n",
    "print(label[eventNumber])\n"
   ]
  },
  {
   "cell_type": "code",
   "execution_count": 94,
   "metadata": {},
   "outputs": [
    {
     "name": "stdout",
     "output_type": "stream",
     "text": [
      "[1]\n",
      "[1]\n",
      "[0]\n"
     ]
    },
    {
     "data": {
      "image/png": "[encoded data removed]",
      "text/plain": [
       "<matplotlib.figure.Figure at 0x12a48d6b5f8>"
      ]
     },
     "metadata": {},
     "output_type": "display_data"
    },
    {
     "data": {
      "image/png": "[encoded data removed]",
      "text/plain": [
       "<matplotlib.figure.Figure at 0x12a4a512198>"
      ]
     },
     "metadata": {},
     "output_type": "display_data"
    },
    {
     "data": {
      "image/png": "[encoded data removed]",
      "text/plain": [
       "<matplotlib.figure.Figure at 0x12a48d07a90>"
      ]
     },
     "metadata": {},
     "output_type": "display_data"
    }
   ],
   "source": [
    "plt.figure()\n",
    "plt.plot(events[:,0])\n",
    "plt.figure()\n",
    "plt.plot(events[:,600])\n",
    "plt.figure()\n",
    "plt.plot(events[:,-1])\n",
    "\n",
    "print(label[0])\n",
    "print(label[600])\n",
    "print(label[-1])"
   ]
  },
  {
   "cell_type": "code",
   "execution_count": 77,
   "metadata": {},
   "outputs": [
    {
     "data": {
      "text/plain": [
       "array([1])"
      ]
     },
     "execution_count": 77,
     "metadata": {},
     "output_type": "execute_result"
    }
   ],
   "source": [
    "label[0]"
   ]
  },
  {
   "cell_type": "code",
   "execution_count": 78,
   "metadata": {},
   "outputs": [
    {
     "name": "stdout",
     "output_type": "stream",
     "text": [
      "(30000, 1312)\n",
      "(1312, 1)\n",
      "(30000, 1312)\n"
     ]
    }
   ],
   "source": [
    "print(events.shape)\n",
    "print(label.shape)\n",
    "print(times.shape)\n",
    "#print(label.shape[0])\n",
    "#0:label.shape[0]"
   ]
  },
  {
   "cell_type": "code",
   "execution_count": 79,
   "metadata": {},
   "outputs": [
    {
     "name": "stdout",
     "output_type": "stream",
     "text": [
      "(30000, 1312)\n",
      "100\n",
      "[[0.0000000e+00 0.0000000e+00 0.0000000e+00 ... 0.0000000e+00\n",
      "  0.0000000e+00 0.0000000e+00]\n",
      " [1.7280000e+02 1.7280000e+02 1.7280000e+02 ... 1.7280000e+02\n",
      "  1.7280000e+02 1.7280000e+02]\n",
      " [3.4560000e+02 3.4560000e+02 3.4560000e+02 ... 3.4560000e+02\n",
      "  3.4560000e+02 3.4560000e+02]\n",
      " ...\n",
      " [5.1834816e+06 5.1834816e+06 5.1834816e+06 ... 5.1834816e+06\n",
      "  5.1834816e+06 5.1834816e+06]\n",
      " [5.1836544e+06 5.1836544e+06 5.1836544e+06 ... 5.1836544e+06\n",
      "  5.1836544e+06 5.1836544e+06]\n",
      " [5.1838272e+06 5.1838272e+06 5.1838272e+06 ... 5.1838272e+06\n",
      "  5.1838272e+06 5.1838272e+06]]\n"
     ]
    }
   ],
   "source": [
    "print(times.shape)\n",
    "print(fs)\n",
    "print(times)"
   ]
  },
  {
   "cell_type": "code",
   "execution_count": 80,
   "metadata": {},
   "outputs": [
    {
     "name": "stderr",
     "output_type": "stream",
     "text": [
      "C:\\Users\\jhpark3\\AppData\\Local\\Continuum\\anaconda3\\lib\\site-packages\\ipykernel_launcher.py:4: DeprecationWarning: `imresize` is deprecated!\n",
      "`imresize` is deprecated in SciPy 1.0.0, and will be removed in 1.2.0.\n",
      "Use ``skimage.transform.resize`` instead.\n",
      "  after removing the cwd from sys.path.\n"
     ]
    }
   ],
   "source": [
    "data = np.zeros((events.shape[1], spectrogram_shape[0], spectrogram_shape[1]))\n",
    "for i in range(events.shape[1]):\n",
    "    _, _, Sxx = getSpectogram(events[:,i], fs)\n",
    "    Sxx = scipy.misc.imresize(Sxx, [64, 128])\n",
    "    data[i, :, :] = (Sxx - np.mean(Sxx)) / np.std(Sxx)\n",
    "    #data[i, :, :] = zscore(np.log10(Sxx))\n",
    "\n",
    "data = data[:,:,:,np.newaxis] "
   ]
  },
  {
   "cell_type": "code",
   "execution_count": 81,
   "metadata": {},
   "outputs": [
    {
     "name": "stdout",
     "output_type": "stream",
     "text": [
      "(1049, 64, 128, 1)\n",
      "(1049, 2)\n",
      "(1312, 64, 128, 1)\n",
      "(1312, 1)\n"
     ]
    }
   ],
   "source": [
    "def split_reshape_dataset(X, Y, ratio):\n",
    "    #X = X.T[:,:,np.newaxis, np.newaxis]\n",
    "    #Y = Y.T\n",
    "    m = X.shape[0] # number of samples\n",
    "    sortInd = np.arange(m)\n",
    "    np.random.shuffle(sortInd)\n",
    "    nTrain = int(ratio * m)\n",
    "    X_train = X[sortInd[:nTrain], :, :, :]\n",
    "    Y_train = Y[sortInd[:nTrain],:]\n",
    "    X_test = X[sortInd[nTrain:], :, :, :]\n",
    "    Y_test = Y[sortInd[nTrain:],:]\n",
    "    return X_train, X_test, Y_train, Y_test\n",
    "\n",
    "#data = data[300:700,:]\n",
    "#data = (data - np.mean(data, axis = 0, keepdims= True)) / np.std(data, axis = 0, keepdims = True)\n",
    "#data=zscore(data)\n",
    "RatioTraining=0.8; # 0.8 before\n",
    "X_train, X_test, Y_train, Y_test = split_reshape_dataset(data, label, RatioTraining)\n",
    "Y_train =convert_to_one_hot(Y_train,2).T\n",
    "Y_test = convert_to_one_hot(Y_test,2).T\n",
    "\n",
    "print(X_train.shape)\n",
    "print(Y_train.shape)\n",
    "print(data.shape)\n",
    "print(label.shape)\n",
    "i = 104"
   ]
  },
  {
   "cell_type": "code",
   "execution_count": 85,
   "metadata": {},
   "outputs": [],
   "source": [
    "def ComputeModel(input_shape):\n",
    "    \"\"\"\n",
    "    Function creating the model's graph in Keras.\n",
    "    \n",
    "    Argument:\n",
    "    input_shape -- shape of the model's input data (using Keras conventions)\n",
    "\n",
    "    Returns:\n",
    "    model -- Keras model instance\n",
    "    \"\"\"\n",
    "    \n",
    "    \n",
    "    X_input = Input(shape = input_shape)\n",
    "    # keras.layers.Conv1D(filters, kernel_size, strides=1, padding='valid', data_format='channels_last', dilation_rate=1, activation=None, \n",
    "    \n",
    "    # Step 1: CONV layer \n",
    "    X = Conv1D(filters=196,kernel_size=16,strides=4)(X_input) #None                                 # CONV1D\n",
    "    X = BatchNormalization()(X) #None                                 # Batch normalization\n",
    "    X = Activation(activation='relu')(X) #None                                 # ReLu activation\n",
    "    X = Dropout(rate=0.8)(X) #None                                 # dropout (use 0.8)\n",
    "\n",
    "    # Step 2: First GRU Layer \n",
    "    X = GRU(units=128, return_sequences=True)(X)#None                                 # GRU (use 128 units and return the sequences)\n",
    "    X = Dropout(rate=.8)(X) #None                                 # dropout (use 0.8)\n",
    "    X = BatchNormalization()(X) #None                                 # Batch normalization\n",
    "    \n",
    "    # Step 3: Second GRU Layer \n",
    "    X = GRU(units=128, return_sequences=True)(X) #None                                 # GRU (use 128 units and return the sequences)\n",
    "    X = Dropout(rate=0.8)(X) #None                                 # dropout (use 0.8)\n",
    "    X =  BatchNormalization()(X) #None                                 # Batch normalization\n",
    "    X = Dropout(rate=0.8)(X) #None                                 # dropout (use 0.8)\n",
    "    \n",
    "    # Step 3: Second GRU Layer\n",
    "    '''\n",
    "    X = GRU(units=128, return_sequences=True)(X) #None                                 # GRU (use 128 units and return the sequences)\n",
    "    X = Dropout(rate=0.8)(X) #None                                 # dropout (use 0.8)\n",
    "    X =  BatchNormalization()(X) #None                                 # Batch normalization\n",
    "    X = Dropout(rate=0.8)(X) #None   \n",
    "    \n",
    "    X = GRU(units=128, return_sequences=True)(X) #None                                 # GRU (use 128 units and return the sequences)\n",
    "    X = Dropout(rate=0.8)(X) #None                                 # dropout (use 0.8)\n",
    "    X =  BatchNormalization()(X) #None                                 # Batch normalization\n",
    "    X = Dropout(rate=0.8)(X) #None   \n",
    "    '''\n",
    "    # Step 4: Time-distributed dense layer (≈1 line)\n",
    "    \n",
    "    \n",
    "    \n",
    "    X = TimeDistributed(Dense(1, activation = \"sigmoid\"))(X) # time distributed  (sigmoid)\n",
    "    X = Flatten()(X)\n",
    "    X = Dense(1, activation = \"sigmoid\")(X) # time distributed  (sigmoid)\n",
    "    ### END CODE HERE ###\n",
    "\n",
    "    model = Model(inputs = X_input, outputs = X)\n",
    "    \n",
    "    \n",
    "    return model  "
   ]
  },
  {
   "cell_type": "code",
   "execution_count": 86,
   "metadata": {},
   "outputs": [
    {
     "name": "stdout",
     "output_type": "stream",
     "text": [
      "(64, 128)\n",
      "(1049, 64, 128, 1)\n",
      "(64, 128)\n",
      "_________________________________________________________________\n",
      "Layer (type)                 Output Shape              Param #   \n",
      "=================================================================\n",
      "input_2 (InputLayer)         (None, 64, 128)           0         \n",
      "_________________________________________________________________\n",
      "conv1d_2 (Conv1D)            (None, 13, 196)           401604    \n",
      "_________________________________________________________________\n",
      "batch_normalization_4 (Batch (None, 13, 196)           784       \n",
      "_________________________________________________________________\n",
      "activation_2 (Activation)    (None, 13, 196)           0         \n",
      "_________________________________________________________________\n",
      "dropout_5 (Dropout)          (None, 13, 196)           0         \n",
      "_________________________________________________________________\n",
      "gru_3 (GRU)                  (None, 13, 128)           124800    \n",
      "_________________________________________________________________\n",
      "dropout_6 (Dropout)          (None, 13, 128)           0         \n",
      "_________________________________________________________________\n",
      "batch_normalization_5 (Batch (None, 13, 128)           512       \n",
      "_________________________________________________________________\n",
      "gru_4 (GRU)                  (None, 13, 128)           98688     \n",
      "_________________________________________________________________\n",
      "dropout_7 (Dropout)          (None, 13, 128)           0         \n",
      "_________________________________________________________________\n",
      "batch_normalization_6 (Batch (None, 13, 128)           512       \n",
      "_________________________________________________________________\n",
      "dropout_8 (Dropout)          (None, 13, 128)           0         \n",
      "_________________________________________________________________\n",
      "time_distributed_2 (TimeDist (None, 13, 1)             129       \n",
      "_________________________________________________________________\n",
      "flatten_2 (Flatten)          (None, 13)                0         \n",
      "_________________________________________________________________\n",
      "dense_4 (Dense)              (None, 1)                 14        \n",
      "=================================================================\n",
      "Total params: 627,043\n",
      "Trainable params: 626,139\n",
      "Non-trainable params: 904\n",
      "_________________________________________________________________\n"
     ]
    }
   ],
   "source": [
    "Tx=2.5E-2\n",
    "print(spectrogram_shape)\n",
    "print(X_train.shape)\n",
    "print(spectrogram_shape)\n",
    "model = ComputeModel(input_shape = (spectrogram_shape[0],spectrogram_shape[1]))\n",
    "model.summary()"
   ]
  },
  {
   "cell_type": "code",
   "execution_count": null,
   "metadata": {},
   "outputs": [
    {
     "name": "stdout",
     "output_type": "stream",
     "text": [
      "(1049, 64, 128)\n",
      "(1049,)\n",
      "Epoch 1/200\n",
      "1049/1049 [==============================] - 3s 3ms/step - loss: 0.6949 - acc: 0.5357\n",
      "Epoch 2/200\n",
      "1049/1049 [==============================] - 1s 920us/step - loss: 0.7078 - acc: 0.5205\n",
      "Epoch 3/200\n",
      "1049/1049 [==============================] - 1s 939us/step - loss: 0.7105 - acc: 0.5157\n",
      "Epoch 4/200\n",
      "1049/1049 [==============================] - 1s 968us/step - loss: 0.7086 - acc: 0.5167\n",
      "Epoch 5/200\n",
      "1049/1049 [==============================] - 1s 1ms/step - loss: 0.7061 - acc: 0.5148\n",
      "Epoch 6/200\n",
      "1049/1049 [==============================] - 1s 991us/step - loss: 0.7127 - acc: 0.4948\n",
      "Epoch 7/200\n",
      "1049/1049 [==============================] - 1s 922us/step - loss: 0.7099 - acc: 0.4986\n",
      "Epoch 8/200\n",
      "1049/1049 [==============================] - 1s 938us/step - loss: 0.7113 - acc: 0.5167\n",
      "Epoch 9/200\n",
      " 200/1049 [====>.........................] - ETA: 0s - loss: 0.7584 - acc: 0.4050"
     ]
    }
   ],
   "source": [
    "opt = Adam(lr=0.0001, beta_1=0.9, beta_2=0.999, decay=0.01)\n",
    "model.compile(loss='binary_crossentropy', optimizer=opt, metrics=[\"accuracy\"])\n",
    "#X_train_reshape=np.squeeze(X_train)\n",
    "#X_train_reshape.shape\n",
    "Y_train.shape\n",
    "Y_train2=Y_train[:,0]\n",
    "#Y_train2=Y_train2[:,np.newaxis,np.newaxis]\n",
    "print(np.squeeze(X_train).shape)\n",
    "print(Y_train2.shape)\n",
    "model.fit(np.squeeze(X_train), Y_train2, batch_size = 50, epochs=200)\n"
   ]
  },
  {
   "cell_type": "code",
   "execution_count": null,
   "metadata": {},
   "outputs": [],
   "source": [
    "loss, acc = model.evaluate(np.squeeze(X_test), Y_test[:,0])\n",
    "print(\"Dev set accuracy = \", acc)"
   ]
  }
 ],
 "metadata": {
  "kernelspec": {
   "display_name": "Python 3",
   "language": "python",
   "name": "python3"
  },
  "language_info": {
   "codemirror_mode": {
    "name": "ipython",
    "version": 3
   },
   "file_extension": ".py",
   "mimetype": "text/x-python",
   "name": "python",
   "nbconvert_exporter": "python",
   "pygments_lexer": "ipython3",
   "version": "3.6.4"
  }
 },
 "nbformat": 4,
 "nbformat_minor": 2
}
