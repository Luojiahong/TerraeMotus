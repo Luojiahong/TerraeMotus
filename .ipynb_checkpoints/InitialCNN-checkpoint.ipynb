{
 "cells": [
  {
   "cell_type": "markdown",
   "metadata": {},
   "source": [
    "# Introduction\n",
    "We will attempt to use convonlutional neural network on the dataset. This is the initial attempt so we will apply it on a very small dataset on the raw data in one channel (vertical). First, let us import the required packages including tensorflow."
   ]
  },
  {
   "cell_type": "code",
   "execution_count": 11,
   "metadata": {},
   "outputs": [],
   "source": [
    "import tensorflow as tf;\n",
    "import matplotlib.pyplot as plt\n",
    "import numpy as np\n",
    "\n",
    "from obspy.taup import TauPyModel\n",
    "from obspy.geodetics import gps2dist_azimuth, kilometer2degrees\n",
    "\n",
    "import pickle"
   ]
  },
  {
   "cell_type": "markdown",
   "metadata": {},
   "source": [
    "Let us define a retrieval function to be used for getting the data"
   ]
  },
  {
   "cell_type": "code",
   "execution_count": 19,
   "metadata": {},
   "outputs": [],
   "source": [
    "def getSeismograms(clientName, networkName,  stationName, startTime, endTime, timeBefore, timeAfter, minMagnitude=0, maxRadius=3):\n",
    "    '''\n",
    "    Get seismigrams (orginal raw strems) based on search defined by the user.\n",
    "    '''\n",
    "    \n",
    "    # Find the possible earthquakes and put them in a catalog\n",
    "    client = Client(clientName)\n",
    "    inventory = client.get_stations(network=networkName, station=stationName)\n",
    "    station = inventory[0][0]\n",
    "    cat = client.get_events(starttime=startTime, endtime=endTime, minmagnitude=minMagnitude, latitude=station.latitude, longitude=station.longitude, maxradius=maxRadius)\n",
    "    \n",
    "    # Get the stream for each event\n",
    "    model = TauPyModel(model=\"iasp91\")\n",
    "    \n",
    "    nEvents = len(cat)\n",
    "    stList = []\n",
    "    for i in range(0, nEvents):\n",
    "        try:\n",
    "            event = cat[i]\n",
    "            origin = event.origins[0]\n",
    "            distance, _, _ = gps2dist_azimuth(origin.latitude, origin.longitude, station.latitude, station.longitude)\n",
    "            distance = kilometer2degrees(distance / 1e3)\n",
    "            arrivals = model.get_travel_times(origin.depth / 1e3, distance)\n",
    "            traveltime = arrivals[0].time\n",
    "            arrival_time = origin.time + traveltime\n",
    "\n",
    "            # Get the earthquake signal and store its needed information\n",
    "            st = client.get_waveforms(network=networkName, station=stationName, location=\"00\", channel=channelName, starttime=arrival_time-timeBefore, endtime=arrival_time+timeAfter)\n",
    "            stList.append(st)\n",
    "        except:\n",
    "            pass\n",
    "\n",
    "    return stList"
   ]
  },
  {
   "cell_type": "markdown",
   "metadata": {},
   "source": [
    "let us make a function that save and load the list of seismogram. It is a list of objects so we have to use the package pickle which is included in python by default."
   ]
  },
  {
   "cell_type": "code",
   "execution_count": 13,
   "metadata": {},
   "outputs": [],
   "source": [
    "def saveList(listToSave, fileName = 'SavedList.dat'):\n",
    "    '''\n",
    "    Save a list into a file.\n",
    "    '''\n",
    "    pickle.dump( listToSave, open(fileName, \"wb\" ))\n",
    "\n",
    "\n",
    "def loadList(fileName):\n",
    "    '''\n",
    "    Load a list from a file\n",
    "    '''\n",
    "    loadedList = pickle.load( open( fileName, \"rb\" ))\n",
    "    return loadedList"
   ]
  },
  {
   "cell_type": "markdown",
   "metadata": {},
   "source": [
    "Finally, we define a function to extract the data to numpy format for further analysis."
   ]
  },
  {
   "cell_type": "code",
   "execution_count": 17,
   "metadata": {},
   "outputs": [],
   "source": [
    "def st2numpy(st):\n",
    "    '''\n",
    "    Retrive import information from the seismogram\n",
    "    '''\n",
    "    trace = st.pop()\n",
    "    data = trace.data\n",
    "    time = trace.times('matplotlib')\n",
    "    return time, data\n",
    "\n",
    "def stList2numpy(stList, isSplit=False, splitPerc=.5):\n",
    "    nSt = len(stList)\n",
    "    timeList = []\n",
    "    dataList = []\n",
    "    labelList = []\n",
    "    \n",
    "    for i in range(0, nSt):\n",
    "        time, data = st2numpy(stList[i])\n",
    "        if(isSplit==false):\n",
    "            timeList.append(time)\n",
    "            dataList.append(data)\n",
    "            labelList.append(1)\n",
    "        else:\n",
    "            time0, data0, time1, data1 = splitSt(data, time, splitPerc)\n",
    "            timeList.append(time1)\n",
    "            dataList.append(data1)\n",
    "            labelList.append(1)\n",
    "            timeList.append(time0)\n",
    "            dataList.append(data0)\n",
    "            labelList.append(0)\n",
    "    \n",
    "    timeArray = np.asarray(timeList).T;\n",
    "    dataArray = np.asarray(dataList).T;\n",
    "    labelArray = np.asarray(labelList).T;\n",
    "\n",
    "    return timeArray, dataArray, labelArray\n",
    "            \n",
    "\n",
    "def splitSt(data, time, splitPerc):\n",
    "    nSplitPoints = np.round(len(data)*splitPerc)\n",
    "    time0 = time[0:nSplitPoints-1]\n",
    "    time1 = time[nSplitPoints:]\n",
    "    data0 = data[0:nSplitPoints-1]\n",
    "    data1 = data[nSplitPoints:]\n",
    "    return time0, data0, time1, data1\n",
    "  "
   ]
  },
  {
   "cell_type": "markdown",
   "metadata": {},
   "source": [
    "# Building the dataset\n",
    "Now, let us retrieve the dataset and save it."
   ]
  },
  {
   "cell_type": "code",
   "execution_count": 21,
   "metadata": {},
   "outputs": [
    {
     "ename": "TypeError",
     "evalue": "Unknown format for file <_io.BytesIO object at 0x000001F9B1B8FE60>",
     "output_type": "error",
     "traceback": [
      "\u001b[1;31m---------------------------------------------------------------------------\u001b[0m",
      "\u001b[1;31mTypeError\u001b[0m                                 Traceback (most recent call last)",
      "\u001b[1;32m<ipython-input-21-744c4eff22ca>\u001b[0m in \u001b[0;36m<module>\u001b[1;34m()\u001b[0m\n\u001b[0;32m     11\u001b[0m \u001b[0mtimeBefore\u001b[0m \u001b[1;33m=\u001b[0m \u001b[1;36m1000\u001b[0m\u001b[1;33m;\u001b[0m\u001b[1;33m\u001b[0m\u001b[0m\n\u001b[0;32m     12\u001b[0m \u001b[1;33m\u001b[0m\u001b[0m\n\u001b[1;32m---> 13\u001b[1;33m \u001b[0mstList\u001b[0m \u001b[1;33m=\u001b[0m \u001b[0mgetSeismograms\u001b[0m\u001b[1;33m(\u001b[0m\u001b[0mclientName\u001b[0m\u001b[1;33m,\u001b[0m \u001b[0mnetworkName\u001b[0m\u001b[1;33m,\u001b[0m  \u001b[0mstationName\u001b[0m\u001b[1;33m,\u001b[0m \u001b[0mstartTime\u001b[0m\u001b[1;33m,\u001b[0m \u001b[0mendTime\u001b[0m\u001b[1;33m,\u001b[0m \u001b[0mtimeBefore\u001b[0m\u001b[1;33m,\u001b[0m \u001b[0mtimeAfter\u001b[0m\u001b[1;33m,\u001b[0m \u001b[0mminMagnitude\u001b[0m\u001b[1;33m=\u001b[0m\u001b[1;36m0\u001b[0m\u001b[1;33m,\u001b[0m \u001b[0mmaxRadius\u001b[0m\u001b[1;33m=\u001b[0m\u001b[1;36m3\u001b[0m\u001b[1;33m)\u001b[0m\u001b[1;33m\u001b[0m\u001b[0m\n\u001b[0m",
      "\u001b[1;32m<ipython-input-19-3343653d8dfa>\u001b[0m in \u001b[0;36mgetSeismograms\u001b[1;34m(clientName, networkName, stationName, startTime, endTime, timeBefore, timeAfter, minMagnitude, maxRadius)\u001b[0m\n\u001b[0;32m      6\u001b[0m     \u001b[1;31m# Find the possible earthquakes and put them in a catalog\u001b[0m\u001b[1;33m\u001b[0m\u001b[1;33m\u001b[0m\u001b[0m\n\u001b[0;32m      7\u001b[0m     \u001b[0mclient\u001b[0m \u001b[1;33m=\u001b[0m \u001b[0mClient\u001b[0m\u001b[1;33m(\u001b[0m\u001b[0mclientName\u001b[0m\u001b[1;33m)\u001b[0m\u001b[1;33m\u001b[0m\u001b[0m\n\u001b[1;32m----> 8\u001b[1;33m     \u001b[0minventory\u001b[0m \u001b[1;33m=\u001b[0m \u001b[0mclient\u001b[0m\u001b[1;33m.\u001b[0m\u001b[0mget_stations\u001b[0m\u001b[1;33m(\u001b[0m\u001b[0mnetwork\u001b[0m\u001b[1;33m=\u001b[0m\u001b[0mnetworkName\u001b[0m\u001b[1;33m,\u001b[0m \u001b[0mstation\u001b[0m\u001b[1;33m=\u001b[0m\u001b[0mstationName\u001b[0m\u001b[1;33m)\u001b[0m\u001b[1;33m\u001b[0m\u001b[0m\n\u001b[0m\u001b[0;32m      9\u001b[0m     \u001b[0mstation\u001b[0m \u001b[1;33m=\u001b[0m \u001b[0minventory\u001b[0m\u001b[1;33m[\u001b[0m\u001b[1;36m0\u001b[0m\u001b[1;33m]\u001b[0m\u001b[1;33m[\u001b[0m\u001b[1;36m0\u001b[0m\u001b[1;33m]\u001b[0m\u001b[1;33m\u001b[0m\u001b[0m\n\u001b[0;32m     10\u001b[0m     \u001b[0mcat\u001b[0m \u001b[1;33m=\u001b[0m \u001b[0mclient\u001b[0m\u001b[1;33m.\u001b[0m\u001b[0mget_events\u001b[0m\u001b[1;33m(\u001b[0m\u001b[0mstarttime\u001b[0m\u001b[1;33m=\u001b[0m\u001b[0mstartTime\u001b[0m\u001b[1;33m,\u001b[0m \u001b[0mendtime\u001b[0m\u001b[1;33m=\u001b[0m\u001b[0mendTime\u001b[0m\u001b[1;33m,\u001b[0m \u001b[0mminmagnitude\u001b[0m\u001b[1;33m=\u001b[0m\u001b[0mminMagnitude\u001b[0m\u001b[1;33m,\u001b[0m \u001b[0mlatitude\u001b[0m\u001b[1;33m=\u001b[0m\u001b[0mstation\u001b[0m\u001b[1;33m.\u001b[0m\u001b[0mlatitude\u001b[0m\u001b[1;33m,\u001b[0m \u001b[0mlongitude\u001b[0m\u001b[1;33m=\u001b[0m\u001b[0mstation\u001b[0m\u001b[1;33m.\u001b[0m\u001b[0mlongitude\u001b[0m\u001b[1;33m,\u001b[0m \u001b[0mmaxradius\u001b[0m\u001b[1;33m=\u001b[0m\u001b[0mmaxRadius\u001b[0m\u001b[1;33m)\u001b[0m\u001b[1;33m\u001b[0m\u001b[0m\n",
      "\u001b[1;32mC:\\Anaconda3\\lib\\site-packages\\obspy\\clients\\fdsn\\client.py\u001b[0m in \u001b[0;36mget_stations\u001b[1;34m(self, starttime, endtime, startbefore, startafter, endbefore, endafter, network, station, location, channel, minlatitude, maxlatitude, minlongitude, maxlongitude, latitude, longitude, minradius, maxradius, level, includerestricted, includeavailability, updatedafter, matchtimeseries, filename, format, **kwargs)\u001b[0m\n\u001b[0;32m    716\u001b[0m         \u001b[1;32melse\u001b[0m\u001b[1;33m:\u001b[0m\u001b[1;33m\u001b[0m\u001b[0m\n\u001b[0;32m    717\u001b[0m             \u001b[1;31m# This works with XML and StationXML data.\u001b[0m\u001b[1;33m\u001b[0m\u001b[1;33m\u001b[0m\u001b[0m\n\u001b[1;32m--> 718\u001b[1;33m             \u001b[0minventory\u001b[0m \u001b[1;33m=\u001b[0m \u001b[0mread_inventory\u001b[0m\u001b[1;33m(\u001b[0m\u001b[0mdata_stream\u001b[0m\u001b[1;33m)\u001b[0m\u001b[1;33m\u001b[0m\u001b[0m\n\u001b[0m\u001b[0;32m    719\u001b[0m             \u001b[0mdata_stream\u001b[0m\u001b[1;33m.\u001b[0m\u001b[0mclose\u001b[0m\u001b[1;33m(\u001b[0m\u001b[1;33m)\u001b[0m\u001b[1;33m\u001b[0m\u001b[0m\n\u001b[0;32m    720\u001b[0m             \u001b[1;32mreturn\u001b[0m \u001b[0minventory\u001b[0m\u001b[1;33m\u001b[0m\u001b[0m\n",
      "\u001b[1;32m<decorator-gen-170>\u001b[0m in \u001b[0;36mread_inventory\u001b[1;34m(path_or_file_object, format, *args, **kwargs)\u001b[0m\n",
      "\u001b[1;32mC:\\Anaconda3\\lib\\site-packages\\obspy\\core\\util\\decorator.py\u001b[0m in \u001b[0;36m_map_example_filename\u001b[1;34m(func, *args, **kwargs)\u001b[0m\n\u001b[0;32m    299\u001b[0m                         \u001b[1;32mexcept\u001b[0m \u001b[0mIOError\u001b[0m\u001b[1;33m:\u001b[0m\u001b[1;33m\u001b[0m\u001b[0m\n\u001b[0;32m    300\u001b[0m                             \u001b[1;32mpass\u001b[0m\u001b[1;33m\u001b[0m\u001b[0m\n\u001b[1;32m--> 301\u001b[1;33m         \u001b[1;32mreturn\u001b[0m \u001b[0mfunc\u001b[0m\u001b[1;33m(\u001b[0m\u001b[1;33m*\u001b[0m\u001b[0margs\u001b[0m\u001b[1;33m,\u001b[0m \u001b[1;33m**\u001b[0m\u001b[0mkwargs\u001b[0m\u001b[1;33m)\u001b[0m\u001b[1;33m\u001b[0m\u001b[0m\n\u001b[0m\u001b[0;32m    302\u001b[0m     \u001b[1;32mreturn\u001b[0m \u001b[0m_map_example_filename\u001b[0m\u001b[1;33m\u001b[0m\u001b[0m\n\u001b[0;32m    303\u001b[0m \u001b[1;33m\u001b[0m\u001b[0m\n",
      "\u001b[1;32mC:\\Anaconda3\\lib\\site-packages\\obspy\\core\\inventory\\inventory.py\u001b[0m in \u001b[0;36mread_inventory\u001b[1;34m(path_or_file_object, format, *args, **kwargs)\u001b[0m\n\u001b[0;32m     96\u001b[0m             \u001b[1;32mreturn\u001b[0m \u001b[0mread_inventory\u001b[0m\u001b[1;33m(\u001b[0m\u001b[0mfh\u001b[0m\u001b[1;33m.\u001b[0m\u001b[0mname\u001b[0m\u001b[1;33m,\u001b[0m \u001b[0mformat\u001b[0m\u001b[1;33m=\u001b[0m\u001b[0mformat\u001b[0m\u001b[1;33m)\u001b[0m\u001b[1;33m\u001b[0m\u001b[0m\n\u001b[0;32m     97\u001b[0m     return _read_from_plugin(\"inventory\", path_or_file_object,\n\u001b[1;32m---> 98\u001b[1;33m                              format=format, *args, **kwargs)[0]\n\u001b[0m\u001b[0;32m     99\u001b[0m \u001b[1;33m\u001b[0m\u001b[0m\n\u001b[0;32m    100\u001b[0m \u001b[1;33m\u001b[0m\u001b[0m\n",
      "\u001b[1;32mC:\\Anaconda3\\lib\\site-packages\\obspy\\core\\util\\base.py\u001b[0m in \u001b[0;36m_read_from_plugin\u001b[1;34m(plugin_type, filename, format, **kwargs)\u001b[0m\n\u001b[0;32m    390\u001b[0m                 \u001b[1;32mbreak\u001b[0m\u001b[1;33m\u001b[0m\u001b[0m\n\u001b[0;32m    391\u001b[0m         \u001b[1;32melse\u001b[0m\u001b[1;33m:\u001b[0m\u001b[1;33m\u001b[0m\u001b[0m\n\u001b[1;32m--> 392\u001b[1;33m             \u001b[1;32mraise\u001b[0m \u001b[0mTypeError\u001b[0m\u001b[1;33m(\u001b[0m\u001b[1;34m'Unknown format for file %s'\u001b[0m \u001b[1;33m%\u001b[0m \u001b[0mfilename\u001b[0m\u001b[1;33m)\u001b[0m\u001b[1;33m\u001b[0m\u001b[0m\n\u001b[0m\u001b[0;32m    393\u001b[0m     \u001b[1;32melse\u001b[0m\u001b[1;33m:\u001b[0m\u001b[1;33m\u001b[0m\u001b[0m\n\u001b[0;32m    394\u001b[0m         \u001b[1;31m# format given via argument\u001b[0m\u001b[1;33m\u001b[0m\u001b[1;33m\u001b[0m\u001b[0m\n",
      "\u001b[1;31mTypeError\u001b[0m: Unknown format for file <_io.BytesIO object at 0x000001F9B1B8FE60>"
     ]
    }
   ],
   "source": [
    "networkName      = \"BK\"\n",
    "stationName      = \"PKD\"\n",
    "clientName       = \"NCEDC\"\n",
    "startTime        = UTCDateTime(\"2000-01-01\")\n",
    "endTime          = UTCDateTime(\"2018-04-06\")\n",
    "maxRadius        = .1\n",
    "minMagnitude     = 3\n",
    "channelName      = \"LHZ\"\n",
    "\n",
    "timeAfter = 500;\n",
    "timeBefore = 1000;\n",
    "\n",
    "stList = getSeismograms(clientName, networkName,  stationName, startTime, endTime, timeBefore, timeAfter, minMagnitude=0, maxRadius=3)"
   ]
  },
  {
   "cell_type": "code",
   "execution_count": 26,
   "metadata": {},
   "outputs": [
    {
     "name": "stdout",
     "output_type": "stream",
     "text": [
      "FDSN Webservice Client (base url: http://service.ncedc.org)\n",
      "Available Services: 'dataselect' (v1.1.0), 'event' (v1.1.0), 'station' (v1.1.0), 'available_event_catalogs', 'available_event_contributors'\n",
      "\n",
      "Use e.g. client.help('dataselect') for the\n",
      "parameter description of the individual services\n",
      "or client.help() for parameter description of\n",
      "all webservices.\n"
     ]
    },
    {
     "ename": "TypeError",
     "evalue": "Unknown format for file <_io.BytesIO object at 0x000001F9B1C8DB48>",
     "output_type": "error",
     "traceback": [
      "\u001b[1;31m---------------------------------------------------------------------------\u001b[0m",
      "\u001b[1;31mTypeError\u001b[0m                                 Traceback (most recent call last)",
      "\u001b[1;32m<ipython-input-26-925296b41b8f>\u001b[0m in \u001b[0;36m<module>\u001b[1;34m()\u001b[0m\n\u001b[0;32m      1\u001b[0m \u001b[0mclient\u001b[0m \u001b[1;33m=\u001b[0m \u001b[0mClient\u001b[0m\u001b[1;33m(\u001b[0m\u001b[0mclientName\u001b[0m\u001b[1;33m)\u001b[0m\u001b[1;33m\u001b[0m\u001b[0m\n\u001b[0;32m      2\u001b[0m \u001b[0mprint\u001b[0m\u001b[1;33m(\u001b[0m\u001b[0mclient\u001b[0m\u001b[1;33m)\u001b[0m\u001b[1;33m\u001b[0m\u001b[0m\n\u001b[1;32m----> 3\u001b[1;33m \u001b[0minventory\u001b[0m \u001b[1;33m=\u001b[0m \u001b[0mclient\u001b[0m\u001b[1;33m.\u001b[0m\u001b[0mget_stations\u001b[0m\u001b[1;33m(\u001b[0m\u001b[0mnetwork\u001b[0m\u001b[1;33m=\u001b[0m\u001b[0mnetworkName\u001b[0m\u001b[1;33m,\u001b[0m \u001b[0mstation\u001b[0m\u001b[1;33m=\u001b[0m\u001b[0mstationName\u001b[0m\u001b[1;33m)\u001b[0m\u001b[1;33m\u001b[0m\u001b[0m\n\u001b[0m",
      "\u001b[1;32mC:\\Anaconda3\\lib\\site-packages\\obspy\\clients\\fdsn\\client.py\u001b[0m in \u001b[0;36mget_stations\u001b[1;34m(self, starttime, endtime, startbefore, startafter, endbefore, endafter, network, station, location, channel, minlatitude, maxlatitude, minlongitude, maxlongitude, latitude, longitude, minradius, maxradius, level, includerestricted, includeavailability, updatedafter, matchtimeseries, filename, format, **kwargs)\u001b[0m\n\u001b[0;32m    716\u001b[0m         \u001b[1;32melse\u001b[0m\u001b[1;33m:\u001b[0m\u001b[1;33m\u001b[0m\u001b[0m\n\u001b[0;32m    717\u001b[0m             \u001b[1;31m# This works with XML and StationXML data.\u001b[0m\u001b[1;33m\u001b[0m\u001b[1;33m\u001b[0m\u001b[0m\n\u001b[1;32m--> 718\u001b[1;33m             \u001b[0minventory\u001b[0m \u001b[1;33m=\u001b[0m \u001b[0mread_inventory\u001b[0m\u001b[1;33m(\u001b[0m\u001b[0mdata_stream\u001b[0m\u001b[1;33m)\u001b[0m\u001b[1;33m\u001b[0m\u001b[0m\n\u001b[0m\u001b[0;32m    719\u001b[0m             \u001b[0mdata_stream\u001b[0m\u001b[1;33m.\u001b[0m\u001b[0mclose\u001b[0m\u001b[1;33m(\u001b[0m\u001b[1;33m)\u001b[0m\u001b[1;33m\u001b[0m\u001b[0m\n\u001b[0;32m    720\u001b[0m             \u001b[1;32mreturn\u001b[0m \u001b[0minventory\u001b[0m\u001b[1;33m\u001b[0m\u001b[0m\n",
      "\u001b[1;32m<decorator-gen-170>\u001b[0m in \u001b[0;36mread_inventory\u001b[1;34m(path_or_file_object, format, *args, **kwargs)\u001b[0m\n",
      "\u001b[1;32mC:\\Anaconda3\\lib\\site-packages\\obspy\\core\\util\\decorator.py\u001b[0m in \u001b[0;36m_map_example_filename\u001b[1;34m(func, *args, **kwargs)\u001b[0m\n\u001b[0;32m    299\u001b[0m                         \u001b[1;32mexcept\u001b[0m \u001b[0mIOError\u001b[0m\u001b[1;33m:\u001b[0m\u001b[1;33m\u001b[0m\u001b[0m\n\u001b[0;32m    300\u001b[0m                             \u001b[1;32mpass\u001b[0m\u001b[1;33m\u001b[0m\u001b[0m\n\u001b[1;32m--> 301\u001b[1;33m         \u001b[1;32mreturn\u001b[0m \u001b[0mfunc\u001b[0m\u001b[1;33m(\u001b[0m\u001b[1;33m*\u001b[0m\u001b[0margs\u001b[0m\u001b[1;33m,\u001b[0m \u001b[1;33m**\u001b[0m\u001b[0mkwargs\u001b[0m\u001b[1;33m)\u001b[0m\u001b[1;33m\u001b[0m\u001b[0m\n\u001b[0m\u001b[0;32m    302\u001b[0m     \u001b[1;32mreturn\u001b[0m \u001b[0m_map_example_filename\u001b[0m\u001b[1;33m\u001b[0m\u001b[0m\n\u001b[0;32m    303\u001b[0m \u001b[1;33m\u001b[0m\u001b[0m\n",
      "\u001b[1;32mC:\\Anaconda3\\lib\\site-packages\\obspy\\core\\inventory\\inventory.py\u001b[0m in \u001b[0;36mread_inventory\u001b[1;34m(path_or_file_object, format, *args, **kwargs)\u001b[0m\n\u001b[0;32m     96\u001b[0m             \u001b[1;32mreturn\u001b[0m \u001b[0mread_inventory\u001b[0m\u001b[1;33m(\u001b[0m\u001b[0mfh\u001b[0m\u001b[1;33m.\u001b[0m\u001b[0mname\u001b[0m\u001b[1;33m,\u001b[0m \u001b[0mformat\u001b[0m\u001b[1;33m=\u001b[0m\u001b[0mformat\u001b[0m\u001b[1;33m)\u001b[0m\u001b[1;33m\u001b[0m\u001b[0m\n\u001b[0;32m     97\u001b[0m     return _read_from_plugin(\"inventory\", path_or_file_object,\n\u001b[1;32m---> 98\u001b[1;33m                              format=format, *args, **kwargs)[0]\n\u001b[0m\u001b[0;32m     99\u001b[0m \u001b[1;33m\u001b[0m\u001b[0m\n\u001b[0;32m    100\u001b[0m \u001b[1;33m\u001b[0m\u001b[0m\n",
      "\u001b[1;32mC:\\Anaconda3\\lib\\site-packages\\obspy\\core\\util\\base.py\u001b[0m in \u001b[0;36m_read_from_plugin\u001b[1;34m(plugin_type, filename, format, **kwargs)\u001b[0m\n\u001b[0;32m    390\u001b[0m                 \u001b[1;32mbreak\u001b[0m\u001b[1;33m\u001b[0m\u001b[0m\n\u001b[0;32m    391\u001b[0m         \u001b[1;32melse\u001b[0m\u001b[1;33m:\u001b[0m\u001b[1;33m\u001b[0m\u001b[0m\n\u001b[1;32m--> 392\u001b[1;33m             \u001b[1;32mraise\u001b[0m \u001b[0mTypeError\u001b[0m\u001b[1;33m(\u001b[0m\u001b[1;34m'Unknown format for file %s'\u001b[0m \u001b[1;33m%\u001b[0m \u001b[0mfilename\u001b[0m\u001b[1;33m)\u001b[0m\u001b[1;33m\u001b[0m\u001b[0m\n\u001b[0m\u001b[0;32m    393\u001b[0m     \u001b[1;32melse\u001b[0m\u001b[1;33m:\u001b[0m\u001b[1;33m\u001b[0m\u001b[0m\n\u001b[0;32m    394\u001b[0m         \u001b[1;31m# format given via argument\u001b[0m\u001b[1;33m\u001b[0m\u001b[1;33m\u001b[0m\u001b[0m\n",
      "\u001b[1;31mTypeError\u001b[0m: Unknown format for file <_io.BytesIO object at 0x000001F9B1C8DB48>"
     ]
    }
   ],
   "source": [
    "client = Client(clientName)\n",
    "print(client)\n",
    "inventory = client.get_stations(network=networkName, station=stationName)"
   ]
  },
  {
   "cell_type": "code",
   "execution_count": 28,
   "metadata": {},
   "outputs": [
    {
     "data": {
      "text/plain": [
       "'PKD'"
      ]
     },
     "execution_count": 28,
     "metadata": {},
     "output_type": "execute_result"
    }
   ],
   "source": [
    "stationName"
   ]
  },
  {
   "cell_type": "code",
   "execution_count": null,
   "metadata": {},
   "outputs": [],
   "source": []
  }
 ],
 "metadata": {
  "kernelspec": {
   "display_name": "Python 3",
   "language": "python",
   "name": "python3"
  },
  "language_info": {
   "codemirror_mode": {
    "name": "ipython",
    "version": 3
   },
   "file_extension": ".py",
   "mimetype": "text/x-python",
   "name": "python",
   "nbconvert_exporter": "python",
   "pygments_lexer": "ipython3",
   "version": "3.6.4"
  }
 },
 "nbformat": 4,
 "nbformat_minor": 2
}
