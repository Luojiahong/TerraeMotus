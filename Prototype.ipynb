{
 "cells": [
  {
   "cell_type": "markdown",
   "metadata": {},
   "source": [
    "## Data Import from Website\n",
    "\n",
    "The required packages are\n",
    "- Obspy: for working with earthquake seimsic data\n",
    "- Basemap or Cartopy: for plotting maps"
   ]
  },
  {
   "cell_type": "code",
   "execution_count": 2,
   "metadata": {
    "collapsed": true
   },
   "outputs": [],
   "source": [
    "% matplotlib inline\n",
    "import matplotlib.pyplot as plt\n",
    "import numpy as np\n",
    "from matplotlib.dates import date2num\n",
    "\n",
    "from obspy import UTCDateTime\n",
    "from obspy.clients.fdsn import Client\n",
    "from obspy.taup import TauPyModel\n",
    "from obspy.geodetics import gps2dist_azimuth, kilometer2degrees\n",
    "\n",
    "from sklearn.decomposition import PCA\n",
    "from matplotlib import mlab"
   ]
  },
  {
   "cell_type": "code",
   "execution_count": 4,
   "metadata": {
    "collapsed": false
   },
   "outputs": [
    {
     "ename": "TypeError",
     "evalue": "Unknown format for file <_io.BytesIO object at 0x0000029716E5E780>",
     "output_type": "error",
     "traceback": [
      "\u001b[1;31m---------------------------------------------------------------------------\u001b[0m",
      "\u001b[1;31mTypeError\u001b[0m                                 Traceback (most recent call last)",
      "\u001b[1;32m<ipython-input-4-a4513478e650>\u001b[0m in \u001b[0;36m<module>\u001b[1;34m()\u001b[0m\n\u001b[0;32m     10\u001b[0m \u001b[1;33m\u001b[0m\u001b[0m\n\u001b[0;32m     11\u001b[0m \u001b[0mclient\u001b[0m \u001b[1;33m=\u001b[0m \u001b[0mClient\u001b[0m\u001b[1;33m(\u001b[0m\u001b[0mclientName\u001b[0m\u001b[1;33m)\u001b[0m\u001b[1;33m\u001b[0m\u001b[0m\n\u001b[1;32m---> 12\u001b[1;33m \u001b[0minventory\u001b[0m \u001b[1;33m=\u001b[0m \u001b[0mclient\u001b[0m\u001b[1;33m.\u001b[0m\u001b[0mget_stations\u001b[0m\u001b[1;33m(\u001b[0m\u001b[0mnetwork\u001b[0m\u001b[1;33m=\u001b[0m\u001b[0mnetworkName\u001b[0m\u001b[1;33m,\u001b[0m \u001b[0mstation\u001b[0m\u001b[1;33m=\u001b[0m\u001b[0mstationName\u001b[0m\u001b[1;33m)\u001b[0m\u001b[1;33m\u001b[0m\u001b[0m\n\u001b[0m\u001b[0;32m     13\u001b[0m \u001b[0mstation\u001b[0m \u001b[1;33m=\u001b[0m \u001b[0minventory\u001b[0m\u001b[1;33m[\u001b[0m\u001b[1;36m0\u001b[0m\u001b[1;33m]\u001b[0m\u001b[1;33m[\u001b[0m\u001b[1;36m0\u001b[0m\u001b[1;33m]\u001b[0m\u001b[1;33m\u001b[0m\u001b[0m\n\u001b[0;32m     14\u001b[0m \u001b[0mcat\u001b[0m \u001b[1;33m=\u001b[0m \u001b[0mclient\u001b[0m\u001b[1;33m.\u001b[0m\u001b[0mget_events\u001b[0m\u001b[1;33m(\u001b[0m\u001b[0mstarttime\u001b[0m\u001b[1;33m=\u001b[0m\u001b[0mstarttime\u001b[0m\u001b[1;33m,\u001b[0m \u001b[0mendtime\u001b[0m\u001b[1;33m=\u001b[0m\u001b[0mendtime\u001b[0m\u001b[1;33m,\u001b[0m \u001b[0mminmagnitude\u001b[0m\u001b[1;33m=\u001b[0m\u001b[0mminMagnitude\u001b[0m\u001b[1;33m,\u001b[0m \u001b[0mlatitude\u001b[0m\u001b[1;33m=\u001b[0m\u001b[0mstation\u001b[0m\u001b[1;33m.\u001b[0m\u001b[0mlatitude\u001b[0m\u001b[1;33m,\u001b[0m \u001b[0mlongitude\u001b[0m\u001b[1;33m=\u001b[0m\u001b[0mstation\u001b[0m\u001b[1;33m.\u001b[0m\u001b[0mlongitude\u001b[0m\u001b[1;33m,\u001b[0m \u001b[0mmaxradius\u001b[0m\u001b[1;33m=\u001b[0m\u001b[0mmaxRadius\u001b[0m\u001b[1;33m)\u001b[0m\u001b[1;33m\u001b[0m\u001b[0m\n",
      "\u001b[1;32mC:\\Anaconda3\\lib\\site-packages\\obspy\\clients\\fdsn\\client.py\u001b[0m in \u001b[0;36mget_stations\u001b[1;34m(self, starttime, endtime, startbefore, startafter, endbefore, endafter, network, station, location, channel, minlatitude, maxlatitude, minlongitude, maxlongitude, latitude, longitude, minradius, maxradius, level, includerestricted, includeavailability, updatedafter, matchtimeseries, filename, format, **kwargs)\u001b[0m\n\u001b[0;32m    716\u001b[0m         \u001b[1;32melse\u001b[0m\u001b[1;33m:\u001b[0m\u001b[1;33m\u001b[0m\u001b[0m\n\u001b[0;32m    717\u001b[0m             \u001b[1;31m# This works with XML and StationXML data.\u001b[0m\u001b[1;33m\u001b[0m\u001b[1;33m\u001b[0m\u001b[0m\n\u001b[1;32m--> 718\u001b[1;33m             \u001b[0minventory\u001b[0m \u001b[1;33m=\u001b[0m \u001b[0mread_inventory\u001b[0m\u001b[1;33m(\u001b[0m\u001b[0mdata_stream\u001b[0m\u001b[1;33m)\u001b[0m\u001b[1;33m\u001b[0m\u001b[0m\n\u001b[0m\u001b[0;32m    719\u001b[0m             \u001b[0mdata_stream\u001b[0m\u001b[1;33m.\u001b[0m\u001b[0mclose\u001b[0m\u001b[1;33m(\u001b[0m\u001b[1;33m)\u001b[0m\u001b[1;33m\u001b[0m\u001b[0m\n\u001b[0;32m    720\u001b[0m             \u001b[1;32mreturn\u001b[0m \u001b[0minventory\u001b[0m\u001b[1;33m\u001b[0m\u001b[0m\n",
      "\u001b[1;32m<decorator-gen-170>\u001b[0m in \u001b[0;36mread_inventory\u001b[1;34m(path_or_file_object, format, *args, **kwargs)\u001b[0m\n",
      "\u001b[1;32mC:\\Anaconda3\\lib\\site-packages\\obspy\\core\\util\\decorator.py\u001b[0m in \u001b[0;36m_map_example_filename\u001b[1;34m(func, *args, **kwargs)\u001b[0m\n\u001b[0;32m    299\u001b[0m                         \u001b[1;32mexcept\u001b[0m \u001b[0mIOError\u001b[0m\u001b[1;33m:\u001b[0m\u001b[1;33m\u001b[0m\u001b[0m\n\u001b[0;32m    300\u001b[0m                             \u001b[1;32mpass\u001b[0m\u001b[1;33m\u001b[0m\u001b[0m\n\u001b[1;32m--> 301\u001b[1;33m         \u001b[1;32mreturn\u001b[0m \u001b[0mfunc\u001b[0m\u001b[1;33m(\u001b[0m\u001b[1;33m*\u001b[0m\u001b[0margs\u001b[0m\u001b[1;33m,\u001b[0m \u001b[1;33m**\u001b[0m\u001b[0mkwargs\u001b[0m\u001b[1;33m)\u001b[0m\u001b[1;33m\u001b[0m\u001b[0m\n\u001b[0m\u001b[0;32m    302\u001b[0m     \u001b[1;32mreturn\u001b[0m \u001b[0m_map_example_filename\u001b[0m\u001b[1;33m\u001b[0m\u001b[0m\n\u001b[0;32m    303\u001b[0m \u001b[1;33m\u001b[0m\u001b[0m\n",
      "\u001b[1;32mC:\\Anaconda3\\lib\\site-packages\\obspy\\core\\inventory\\inventory.py\u001b[0m in \u001b[0;36mread_inventory\u001b[1;34m(path_or_file_object, format, *args, **kwargs)\u001b[0m\n\u001b[0;32m     96\u001b[0m             \u001b[1;32mreturn\u001b[0m \u001b[0mread_inventory\u001b[0m\u001b[1;33m(\u001b[0m\u001b[0mfh\u001b[0m\u001b[1;33m.\u001b[0m\u001b[0mname\u001b[0m\u001b[1;33m,\u001b[0m \u001b[0mformat\u001b[0m\u001b[1;33m=\u001b[0m\u001b[0mformat\u001b[0m\u001b[1;33m)\u001b[0m\u001b[1;33m\u001b[0m\u001b[0m\n\u001b[0;32m     97\u001b[0m     return _read_from_plugin(\"inventory\", path_or_file_object,\n\u001b[1;32m---> 98\u001b[1;33m                              format=format, *args, **kwargs)[0]\n\u001b[0m\u001b[0;32m     99\u001b[0m \u001b[1;33m\u001b[0m\u001b[0m\n\u001b[0;32m    100\u001b[0m \u001b[1;33m\u001b[0m\u001b[0m\n",
      "\u001b[1;32mC:\\Anaconda3\\lib\\site-packages\\obspy\\core\\util\\base.py\u001b[0m in \u001b[0;36m_read_from_plugin\u001b[1;34m(plugin_type, filename, format, **kwargs)\u001b[0m\n\u001b[0;32m    390\u001b[0m                 \u001b[1;32mbreak\u001b[0m\u001b[1;33m\u001b[0m\u001b[0m\n\u001b[0;32m    391\u001b[0m         \u001b[1;32melse\u001b[0m\u001b[1;33m:\u001b[0m\u001b[1;33m\u001b[0m\u001b[0m\n\u001b[1;32m--> 392\u001b[1;33m             \u001b[1;32mraise\u001b[0m \u001b[0mTypeError\u001b[0m\u001b[1;33m(\u001b[0m\u001b[1;34m'Unknown format for file %s'\u001b[0m \u001b[1;33m%\u001b[0m \u001b[0mfilename\u001b[0m\u001b[1;33m)\u001b[0m\u001b[1;33m\u001b[0m\u001b[0m\n\u001b[0m\u001b[0;32m    393\u001b[0m     \u001b[1;32melse\u001b[0m\u001b[1;33m:\u001b[0m\u001b[1;33m\u001b[0m\u001b[0m\n\u001b[0;32m    394\u001b[0m         \u001b[1;31m# format given via argument\u001b[0m\u001b[1;33m\u001b[0m\u001b[1;33m\u001b[0m\u001b[0m\n",
      "\u001b[1;31mTypeError\u001b[0m: Unknown format for file <_io.BytesIO object at 0x0000029716E5E780>"
     ]
    }
   ],
   "source": [
    "# define station and other parameters\n",
    "networkName      = \"BK\"\n",
    "stationName      = \"PKD\"\n",
    "clientName       = \"NCEDC\"\n",
    "starttime        = UTCDateTime(\"2000-01-01\")\n",
    "endtime          = UTCDateTime(\"2018-04-06\")\n",
    "maxRadius        = .1\n",
    "minMagnitude     = 3\n",
    "channelName      = \"LHZ\"\n",
    "\n",
    "client = Client(clientName)\n",
    "inventory = client.get_stations(network=networkName, station=stationName)\n",
    "station = inventory[0][0]\n",
    "cat = client.get_events(starttime=starttime, endtime=endtime, minmagnitude=minMagnitude, latitude=station.latitude, longitude=station.longitude, maxradius=maxRadius)\n",
    "\n",
    "print(cat)  \n",
    "cat.plot(projection=\"local\");"
   ]
  },
  {
   "cell_type": "markdown",
   "metadata": {},
   "source": [
    "## Save Data to CSV\n",
    "We will store the data in a list. earthquake event (-400, -5)s; non-earthquake event(-750. -400)s. Zero is the earthqake event. Question, does the immediate signal have anything? Can we input both signals and have a network that predict that there are difference in between them?"
   ]
  },
  {
   "cell_type": "code",
   "execution_count": 94,
   "metadata": {},
   "outputs": [],
   "source": [
    "model = TauPyModel(model=\"iasp91\")\n",
    "nEvents = len(cat)\n",
    "dataList  = []\n",
    "labelList = []\n",
    "timeList = []\n",
    "\n",
    "for i in range(0, nEvents):\n",
    "    try:\n",
    "        event = cat[i]\n",
    "        origin = event.origins[0]\n",
    "        distance, _, _ = gps2dist_azimuth(origin.latitude, origin.longitude, station.latitude, station.longitude)\n",
    "        distance = kilometer2degrees(distance / 1e3)\n",
    "        arrivals = model.get_travel_times(origin.depth / 1e3, distance)\n",
    "        #print(arrivals)\n",
    "        traveltime = arrivals[0].time\n",
    "        arrival_time = origin.time + traveltime\n",
    "                \n",
    "        # Get the earthquake signal and store its needed information\n",
    "        st = client.get_waveforms(network=networkName, station=stationName, location=\"00\", channel=channelName, starttime=arrival_time-400, endtime=arrival_time-50)\n",
    "        #st.spectrogram(log=True, wlen=10, title='Earthquake ' )\n",
    "        # st.plot()\n",
    "        trace = st.pop()\n",
    "        dataList.append(trace.data)\n",
    "        timeList.append(trace.times('matplotlib'))\n",
    "        labelList.append(1)\n",
    "        \n",
    "        # Get a non earthquake signal and store its needed information\n",
    "        st = client.get_waveforms(network=networkName, station=stationName, location=\"00\", channel=channelName, starttime=arrival_time-750, endtime=arrival_time-400)\n",
    "        #st.spectrogram(log=True, wlen=10, title='Negative ' )\n",
    "        # st.plot()\n",
    "        trace = st.pop()\n",
    "        dataList.append(trace.data)\n",
    "        timeList.append(trace.times('matplotlib'))\n",
    "        labelList.append(0)\n",
    "        \n",
    "    except:\n",
    "        pass"
   ]
  },
  {
   "cell_type": "markdown",
   "metadata": {},
   "source": [
    "Now let's save the data in CSV file for later analysis"
   ]
  },
  {
   "cell_type": "code",
   "execution_count": 88,
   "metadata": {},
   "outputs": [],
   "source": [
    "data = np.asarray(dataList).T;\n",
    "np.save(\"Data.npy\", data)\n",
    "\n",
    "label = np.asarray(labelList).T;\n",
    "label = np.expand_dims(label, axis=1)\n",
    "np.save(\"Label.npy\", label)\n",
    "\n",
    "time = np.asarray(timeList).T;\n",
    "np.save(\"Time.npy\", time)"
   ]
  },
  {
   "cell_type": "markdown",
   "metadata": {},
   "source": [
    "Now let us load the data and apply PCA to check on things"
   ]
  },
  {
   "cell_type": "code",
   "execution_count": 87,
   "metadata": {},
   "outputs": [],
   "source": [
    "data = np.load(\"Data.npy\")\n",
    "label = np.load(\"Label.npy\")\n",
    "time = np.load(\"Time.npy\")"
   ]
  },
  {
   "cell_type": "markdown",
   "metadata": {},
   "source": [
    "Get PCA and the variance explained of the first events for negative and positive to see if we see more signal in the positive (earthquake) "
   ]
  },
  {
   "cell_type": "code",
   "execution_count": 93,
   "metadata": {},
   "outputs": [
    {
     "name": "stdout",
     "output_type": "stream",
     "text": [
      "[-0.02752781 -0.0174768   0.04946284 -0.03095126  0.00324965  0.00724481\n",
      " -0.03310756]\n"
     ]
    },
    {
     "data": {
      "image/png": "[encoded data removed]",
      "text/plain": [
       "<matplotlib.figure.Figure at 0x1ba4cba1588>"
      ]
     },
     "metadata": {},
     "output_type": "display_data"
    }
   ],
   "source": [
    "nComponents = 5\n",
    "allVar = np.zeros([nComponents, data.shape[1]])\n",
    "\n",
    "for eventNumber in range(0, data.shape[1]):\n",
    "    event = data[0:400,eventNumber]\n",
    "\n",
    "    X = []\n",
    "    window_size = 20\n",
    "    for i in range(len(event) - window_size):\n",
    "        x = []\n",
    "        for j in range(window_size):\n",
    "            x.append(event[i + j])\n",
    "        X.append(x)\n",
    "    X = np.asarray(X)\n",
    "\n",
    "\n",
    "    pca = PCA(n_components = nComponents)\n",
    "    scores = pca.fit_transform(X)\n",
    "    variance = pca.explained_variance_ratio_\n",
    "\n",
    "    allVar[:,eventNumber] = variance\n",
    "\n",
    "plt.plot(allVar[0,0:20:2])\n",
    "plt.plot(allVar[0,1:20:2])\n",
    "\n",
    "#plt.plot(allVar[1,0:20:2])\n",
    "#plt.plot(allVar[1,1:20:2])\n",
    "\n",
    "print(allVar[1, 0:20:2] - allVar[1, 1:20:2])"
   ]
  },
  {
   "cell_type": "code",
   "execution_count": 69,
   "metadata": {},
   "outputs": [],
   "source": [
    "def getSpectogram(data, samp_rate, per_lap=0.9, wlen=None, log=False,\n",
    "                outfile=None, fmt=None, axes=None, dbscale=False,\n",
    "                mult=8.0, zorder=None, title=None,\n",
    "                show=True):\n",
    "    \n",
    "    # enforce float for samp_rate\n",
    "    samp_rate = float(samp_rate)\n",
    "\n",
    "    # set wlen from samp_rate if not specified otherwise\n",
    "    if not wlen:\n",
    "        wlen = samp_rate / 100.\n",
    "\n",
    "    npts = len(data)\n",
    "    # nfft needs to be an integer, otherwise a deprecation will be raised\n",
    "    # XXX add condition for too many windows => calculation takes for ever\n",
    "    nfft = int(_nearest_pow_2(wlen * samp_rate))\n",
    "    if nfft > npts:\n",
    "        nfft = int(_nearest_pow_2(npts / 8.0))\n",
    "\n",
    "    if mult is not None:\n",
    "        mult = int(_nearest_pow_2(mult))\n",
    "        mult = mult * nfft\n",
    "    nlap = int(nfft * float(per_lap))\n",
    "\n",
    "    data = data - data.mean()\n",
    "    end = npts / samp_rate\n",
    "\n",
    "    \n",
    "    specgram, freq, time = mlab.specgram(data, Fs=samp_rate, NFFT=nfft,\n",
    "                                         pad_to=mult, noverlap=nlap)\n",
    "    # db scale and remove zero/offset for amplitude\n",
    "    if dbscale:\n",
    "        specgram = 10 * np.log10(specgram[1:, :])\n",
    "    else:\n",
    "        specgram = np.sqrt(specgram[1:, :])\n",
    "    freq = freq[1:]\n",
    "\n",
    "    vmin, vmax = clip\n",
    "    if vmin < 0 or vmax > 1 or vmin >= vmax:\n",
    "        msg = \"Invalid parameters for clip option.\"\n",
    "        raise ValueError(msg)\n",
    "    _range = float(specgram.max() - specgram.min())\n",
    "    vmin = specgram.min() + vmin * _range\n",
    "    vmax = specgram.min() + vmax * _range\n",
    "    norm = Normalize(vmin, vmax, clip=True)\n",
    "    \n",
    "    return specgram, freq, time"
   ]
  }
 ],
 "metadata": {
  "kernelspec": {
   "display_name": "Python 3",
   "language": "python",
   "name": "python3"
  },
  "language_info": {
   "codemirror_mode": {
    "name": "ipython",
    "version": 3
   },
   "file_extension": ".py",
   "mimetype": "text/x-python",
   "name": "python",
   "nbconvert_exporter": "python",
   "pygments_lexer": "ipython3",
   "version": "3.6.4"
  }
 },
 "nbformat": 4,
 "nbformat_minor": 2
}
