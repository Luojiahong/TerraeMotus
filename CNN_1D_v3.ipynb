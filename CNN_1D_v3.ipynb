{
 "cells": [
  {
   "cell_type": "code",
   "execution_count": 290,
   "metadata": {},
   "outputs": [],
   "source": [
    "import math\n",
    "import numpy as np\n",
    "#import h5py\n",
    "import matplotlib.pyplot as plt\n",
    "import scipy\n",
    "#from PIL import Image\n",
    "from scipy import ndimage\n",
    "import tensorflow as tf\n",
    "from tensorflow.python.framework import ops\n",
    "from cnn_utils import *\n",
    "from sklearn.decomposition import PCA\n",
    "from scipy.stats.mstats import zscore # This is to standardized the parameters\n",
    "%matplotlib inline\n",
    "np.random.seed(1)\n",
    "from pyDOE import *\n",
    "import pdb\n",
    "from matplotlib import colors\n",
    "from matplotlib.ticker import PercentFormatter"
   ]
  },
  {
   "cell_type": "markdown",
   "metadata": {},
   "source": [
    "## 1. Load Data\n",
    "Split train/test data. Investigate the distribution of positive/training data"
   ]
  },
  {
   "cell_type": "code",
   "execution_count": 307,
   "metadata": {},
   "outputs": [
    {
     "name": "stdout",
     "output_type": "stream",
     "text": [
      "(1024, 1366)\n",
      "(1366, 1)\n",
      "For Training data, there are 0.52 pos and 0.48 neg data \n",
      "For Test data, there are 0.47 pos and 0.53 neg data \n",
      "(956, 1024, 1, 1)\n",
      "(204, 1024, 1, 1)\n",
      "(206, 1024, 1, 1)\n",
      "(956, 2)\n",
      "(204, 2)\n",
      "(206, 2)\n"
     ]
    }
   ],
   "source": [
    "#data = np.load(\"./Datasets/DataLO\")  DataDetection_M_2.8_R_0.5_S_4_Sec_256.npy\")\n",
    "#label = np.load(\"./Datasets/LabelDetection_M_2.8_R_0.5_S_4_Sec_256.npy\")\n",
    "#data = np.load(\"./Datasets/DataDetection_M_2.8_R_0.5_S_4_Sec_256.npy\")\n",
    "#label = np.load(\"./Datasets/LabelDetection_M_2.8_R_0.5_S_4_Sec_256.npy\")\n",
    "\n",
    "data = np.load(\"./Datasets/DataLowRes_M_3_R_0.5_S_4_Sec_10800.npy\")\n",
    "label = np.load(\"./Datasets/LabelLowRes_M_3_R_0.5_S_4_Sec_10800.npy\")\n",
    "data = np.load(\"Data.npy\")\n",
    "#data2=data\n",
    "label = np.load(\"label.npy\")\n",
    "# Standardized the data first.\n",
    "data=zscore(data,axis=1)\n",
    "#print(np.std(data[0,:]))\n",
    "#print(np.std(data[1,:]))\n",
    "\n",
    "# time = np.load(\"Time.npy\")\n",
    "print(data.shape)\n",
    "print(label.shape)\n",
    "\n",
    "def split_reshape_dataset_v2(X, Y, TrainRatio,ValidRatio):\n",
    "    TestRatio=1-TrainRatio-ValidRatio\n",
    "    \n",
    "    X = X.T[:,:,np.newaxis, np.newaxis]\n",
    "    Y = Y.T\n",
    "    m = X.shape[0] # number of samples\n",
    "    sortInd = np.arange(m)\n",
    "    np.random.shuffle(sortInd)\n",
    "    nTrain = int(TrainRatio * m)\n",
    "    nValid=int(TestRatio*m)\n",
    "    X_train = X[sortInd[:nTrain], :, :, :]\n",
    "    Y_train = Y[:, sortInd[:nTrain]]\n",
    "    \n",
    "    X_valid=X[sortInd[nTrain:nTrain+nValid], :, :, :]\n",
    "    Y_valid= Y[:, sortInd[nTrain:nTrain+nValid]]\n",
    "    \n",
    "    X_test = X[sortInd[nTrain+nValid:], :, :, :]\n",
    "    Y_test = Y[:, sortInd[nTrain+nValid:]]\n",
    "    #pdb.set_trace()\n",
    "    return X_train, X_valid, X_test, Y_train, Y_valid, Y_test\n",
    "\n",
    "\n",
    "def split_reshape_dataset(X, Y, ratio):\n",
    "    X = X.T[:,:,np.newaxis, np.newaxis]\n",
    "    Y = Y.T\n",
    "    m = X.shape[0] # number of samples\n",
    "    sortInd = np.arange(m)\n",
    "    np.random.shuffle(sortInd)\n",
    "    nTrain = int(ratio * m)\n",
    "    X_train = X[sortInd[:nTrain], :, :, :]\n",
    "    Y_train = Y[:, sortInd[:nTrain]]\n",
    "    \n",
    "    X_test = X[sortInd[nTrain:], :, :, :]\n",
    "    Y_test = Y[:, sortInd[nTrain:]]\n",
    "    return X_train, X_test, Y_train, Y_test\n",
    "\n",
    "#RatioTraining=0.8 # Use 0.8, since we only have 1,000 examples\n",
    "TrainRatio=.7; ValidRatio=.15\n",
    "#X_train, X_test, Y_train, Y_test = split_reshape_dataset(data, label, RatioTraining)\n",
    "X_train, X_valid, X_test, Y_train,Y_valid,Y_test = split_reshape_dataset_v2(data, label, TrainRatio=.7, ValidRatio=.15)\n",
    "\n",
    "#pdb.set_trace()\n",
    "\n",
    "Y_train =convert_to_one_hot(Y_train,2).T\n",
    "Y_test = convert_to_one_hot(Y_test,2).T\n",
    "Y_valid = convert_to_one_hot(Y_valid,2).T\n",
    "\n",
    "m=X_train.shape[0]\n",
    "m_test=X_test.shape[0]\n",
    "## Check the distribution of pos/neg examples.\n",
    "Distribution={'Y_trainPos':np.count_nonzero(Y_train[:,1])/m,'Y_trainNeg':1-np.count_nonzero(Y_train[:,1])/m,\n",
    "              'Y_testPos':np.count_nonzero(Y_test[:,1])/m_test,'Y_testNeg':1-np.count_nonzero(Y_test[:,1])/m_test}\n",
    "\n",
    "print(\"For Training data, there are %3.2f pos and %3.2f neg data \" %(Distribution['Y_trainPos'],Distribution['Y_trainNeg']))\n",
    "print(\"For Test data, there are %3.2f pos and %3.2f neg data \" %(Distribution['Y_testPos'],Distribution['Y_testNeg']))\n",
    "print(X_train.shape)\n",
    "print(X_valid.shape)\n",
    "print(X_test.shape)\n",
    "\n",
    "print(Y_train.shape)\n",
    "print(Y_valid.shape)\n",
    "print(Y_test.shape)\n",
    "\n",
    "#print(Y_train.shape)\n",
    "#print(X_test.shape)\n",
    "#print(Y_test.shape)"
   ]
  },
  {
   "cell_type": "code",
   "execution_count": 308,
   "metadata": {},
   "outputs": [
    {
     "name": "stdout",
     "output_type": "stream",
     "text": [
      "{'Y_trainPos': 0.5209205020920502, 'Y_trainNeg': 0.4790794979079498, 'Y_testPos': 0.470873786407767, 'Y_testNeg': 0.529126213592233}\n"
     ]
    }
   ],
   "source": [
    "print(Distribution)"
   ]
  },
  {
   "cell_type": "markdown",
   "metadata": {},
   "source": [
    "To see the correlation between X, Y do something here"
   ]
  },
  {
   "cell_type": "code",
   "execution_count": 309,
   "metadata": {},
   "outputs": [
    {
     "data": {
      "text/plain": [
       "(array([  2.,   0.,   0.,   1.,   1.,   0.,   4., 617.,  41.,   2.]),\n",
       " array([-11.09727789,  -9.71561431,  -8.33395073,  -6.95228715,\n",
       "         -5.57062356,  -4.18895998,  -2.8072964 ,  -1.42563282,\n",
       "         -0.04396924,   1.33769434,   2.71935792]),\n",
       " <a list of 10 Patch objects>)"
      ]
     },
     "execution_count": 309,
     "metadata": {},
     "output_type": "execute_result"
    },
    {
     "data": {
      "image/png": "[encoded data removed]",
      "text/plain": [
       "<matplotlib.figure.Figure at 0x20c36ddb4e0>"
      ]
     },
     "metadata": {},
     "output_type": "display_data"
    }
   ],
   "source": [
    "pca = PCA(n_components=100)\n",
    "pca.fit(data.T)\n",
    "\n",
    "Xpca=pca.transform(data.T)\n",
    "#print(np.min(Xpca[:,0]))\n",
    "#print(np.max(Xpca[:,0]))\n",
    "#print(Xpca.shape)\n",
    "qq=label==1\n",
    "qq=qq.flatten()\n",
    "#print(qq)\n",
    "\n",
    "X_pos=Xpca[qq,:]\n",
    "X_neg=Xpca[~qq,:]\n",
    "#X_neg2=X_neg[X_neg[:,0]<200,:]\n",
    "#print(X_neg2.shape)\n",
    "fig, axs = plt.subplots(1, 2)\n",
    "axs[0].hist(X_pos[:,0])\n",
    "axs[1].hist(X_neg[X_neg[:,0]<200,0])\n",
    "#axs[1].set_xlim([0,300])\n",
    "#\n",
    "#Xpca.shape\n",
    "#print(np.max(X_pos[:,0]))\n",
    "#print(np.max(X_neg[:,0]))\n",
    "#print(np.min(X_pos[:,0]))\n",
    "#print(np.min(X_neg[:,0]))\n",
    "\n",
    "\n"
   ]
  },
  {
   "cell_type": "code",
   "execution_count": 310,
   "metadata": {},
   "outputs": [
    {
     "data": {
      "text/plain": [
       "(array([  1.,   0.,   0.,   1.,   2.,   0.,   5.,   9.,  84., 495.]),\n",
       " array([-6.10681189e+00, -5.49659731e+00, -4.88638273e+00, -4.27616815e+00,\n",
       "        -3.66595357e+00, -3.05573899e+00, -2.44552441e+00, -1.83530983e+00,\n",
       "        -1.22509525e+00, -6.14880673e-01, -4.66609356e-03]),\n",
       " <a list of 10 Patch objects>)"
      ]
     },
     "execution_count": 310,
     "metadata": {},
     "output_type": "execute_result"
    },
    {
     "name": "stderr",
     "output_type": "stream",
     "text": [
      "C:\\Users\\jhpark3\\AppData\\Local\\Continuum\\anaconda3\\lib\\site-packages\\matplotlib\\figure.py:2022: UserWarning: This figure includes Axes that are not compatible with tight_layout, so results might be incorrect.\n",
      "  warnings.warn(\"This figure includes Axes that are not compatible \"\n"
     ]
    },
    {
     "data": {
      "image/png": "[encoded data removed]",
      "text/plain": [
       "<matplotlib.figure.Figure at 0x20c36e09278>"
      ]
     },
     "metadata": {},
     "output_type": "display_data"
    }
   ],
   "source": [
    "fig, axs = plt.subplots(1, 2, tight_layout=True)\n",
    "axs[0].hist(X_pos[:,1])\n",
    "axs[1].hist(X_neg[X_neg[:,1]<0,1])\n",
    "#axs[1].hist(X_neg[X_neg[:,1]<0,1])"
   ]
  },
  {
   "cell_type": "code",
   "execution_count": 311,
   "metadata": {},
   "outputs": [
    {
     "name": "stderr",
     "output_type": "stream",
     "text": [
      "C:\\Users\\jhpark3\\AppData\\Local\\Continuum\\anaconda3\\lib\\site-packages\\sklearn\\cross_decomposition\\pls_.py:287: UserWarning: Y residual constant at iteration 1\n",
      "  warnings.warn('Y residual constant at iteration %s' % k)\n"
     ]
    },
    {
     "name": "stdout",
     "output_type": "stream",
     "text": [
      "[[ 1.         -0.88168958]\n",
      " [-0.88168958  1.        ]]\n"
     ]
    },
    {
     "data": {
      "text/plain": [
       "(-0.0003, 0.00035)"
      ]
     },
     "execution_count": 311,
     "metadata": {},
     "output_type": "execute_result"
    },
    {
     "data": {
      "image/png": "[encoded data removed]",
      "text/plain": [
       "<matplotlib.figure.Figure at 0x20c36ddba90>"
      ]
     },
     "metadata": {},
     "output_type": "display_data"
    }
   ],
   "source": [
    "from sklearn.cross_decomposition import CCA\n",
    "cca = CCA(n_components=1024,scale=True)\n",
    "cca.fit(data.T, label)\n",
    "X_c, Y_c=cca.fit_transform(data.T, np.float64(label))\n",
    "#X_c.shape\n",
    "#Y_c.shape\n",
    "print(np.corrcoef(X_c[:,0],Y_c))\n",
    "plt.scatter(X_c[:,0], Y_c)\n",
    "plt.xlim((-0.0003, 0.00035))   # set the xlim to xmin, xmax\n",
    "#plt.hist(Y_c)\n",
    "#print(Y_c)\n",
    "\n",
    "#data.T.shape\n",
    "#cca.x_scores_"
   ]
  },
  {
   "cell_type": "code",
   "execution_count": 313,
   "metadata": {},
   "outputs": [
    {
     "name": "stdout",
     "output_type": "stream",
     "text": [
      "(1366, 1024)\n",
      "(1366,)\n"
     ]
    }
   ],
   "source": [
    "print(X_c.shape)\n",
    "print(Y_c.shape)"
   ]
  },
  {
   "cell_type": "markdown",
   "metadata": {},
   "source": [
    "# 2. Hyperparameters\n",
    "Hyperparameters that are perturbed are learning rate $\\alpha$, regularization parameter $\\lambda$, filter size at the first/second conv layer $f^{[1]}$ and $f^{[2]}$, dim. of the filter at the second layer and mini-batch size. Instead of using grids at each point, Latin hypercube sampling is used. The distribution of each parameter is offered.\n",
    "\n",
    "Learning rate: log10($\\alpha$)~Unif[-5, -2]\n",
    "\n",
    "Regularization parameter:  log10($\\lambda$)~Unif[-3,1]\n",
    "\n",
    "Size of the first filter: log2($f^[1]$)~[0,1,2,3,4,5,6,7,8]\n",
    "\n",
    "Size of the first filter: log2($f^[2]$)~[0,1,2,3,4,5,6,7,8]\n",
    "\n",
    "minibatchsize: log2($minibatchSize$)~[0,1,2,3,4,5,6,7,8]"
   ]
  },
  {
   "cell_type": "code",
   "execution_count": 314,
   "metadata": {},
   "outputs": [
    {
     "name": "stdout",
     "output_type": "stream",
     "text": [
      "new candidate solution found with max,abs corrcoef = 0.9910715905917716\n"
     ]
    }
   ],
   "source": [
    "NumSamples=50\n",
    "np.random.seed(1)\n",
    "HyperParameters=lhs(5,samples=NumSamples,criterion=\"corr\")\n",
    "#print(HyperParameters)\n",
    "HyperParameters[:,0]=10**(-5+3*HyperParameters[:,0])\n",
    "HyperParameters[:,1]=10**(-3+4*HyperParameters[:,1])\n",
    "\n",
    "HyperParameters[:,2]=2**np.round(0+8*HyperParameters[:,2])\n",
    "HyperParameters[:,3]=2**np.round(0+8*HyperParameters[:,3])\n",
    "HyperParameters[:,4]=2**np.round(0+8*HyperParameters[:,4])\n",
    "\n",
    "#print(HyperParameters[:,2])\n",
    "\n",
    "#plt.hist(HyperParameters[:,3], bins=20)"
   ]
  },
  {
   "cell_type": "code",
   "execution_count": 315,
   "metadata": {},
   "outputs": [
    {
     "data": {
      "text/plain": [
       "1.0593057270874627e-05"
      ]
     },
     "execution_count": 315,
     "metadata": {},
     "output_type": "execute_result"
    }
   ],
   "source": [
    "np.min(HyperParameters[:,0])"
   ]
  },
  {
   "cell_type": "markdown",
   "metadata": {},
   "source": [
    "## 2. TensorFlow Functions"
   ]
  },
  {
   "cell_type": "code",
   "execution_count": 317,
   "metadata": {},
   "outputs": [],
   "source": [
    "def create_placeholders(n_H0, n_W0, n_C0, n_y,filtersize1,filtersize2):\n",
    "    \"\"\"\n",
    "    Creates the placeholders for the tensorflow session.\n",
    "    \n",
    "    Arguments:\n",
    "    n_H0 -- scalar, height of an input image\n",
    "    n_W0 -- scalar, width of an input image\n",
    "    n_C0 -- scalar, number of channels of the input\n",
    "    n_y -- scalar, number of classes\n",
    "        \n",
    "    Returns:\n",
    "    X -- placeholder for the data input, of shape [None, n_H0, n_W0, n_C0] and dtype \"float\"\n",
    "    Y -- placeholder for the input labels, of shape [None, n_y] and dtype \"float\"\n",
    "    \"\"\"\n",
    "\n",
    "    ### START CODE HERE ### (≈2 lines)\n",
    "    X = tf.placeholder(tf.float32,shape=(None, n_H0, n_W0, n_C0))#None\n",
    "    Y = tf.placeholder(tf.float32,shape=(None,n_y))#None\n",
    "    ### END CODE HERE ###\n",
    "    \n",
    "    return X, Y\n",
    "\n",
    "def initialize_parameters(filtersize1,filtersize2):\n",
    "    \"\"\"\n",
    "    Initializes weight parameters to build a neural network with tensorflow. The shapes are:\n",
    "                        W1 : [4, 4, 3, 8]\n",
    "                        W2 : [2, 2, 8, 16]\n",
    "    Returns:\n",
    "    parameters -- a dictionary of tensors containing W1, W2\n",
    "    \"\"\"\n",
    "    \n",
    "    tf.set_random_seed(1)                              # so that your \"random\" numbers match ours\n",
    "    #filtersize1=64; # originally 4\n",
    "    #filtersize2=32; # originally 2\n",
    "    NumFilters1=32; #8\n",
    "    NumFilters2=64; #16\n",
    "    \n",
    "        \n",
    "    ### START CODE HERE ### (approx. 2 lines of code)\n",
    "    W1 = tf.get_variable(\"W1\", [filtersize1, 1, 1, NumFilters1], initializer = tf.contrib.layers.xavier_initializer(seed = 0))#None\n",
    "    W2 = tf.get_variable(\"W2\", [filtersize2, 1, NumFilters1, NumFilters2], initializer = tf.contrib.layers.xavier_initializer(seed = 0))#None\n",
    "    ### END CODE HERE ###\n",
    "\n",
    "    parameters = {\"W1\": W1,\n",
    "                  \"W2\": W2}\n",
    "    \n",
    "    return parameters\n",
    "\n",
    "def forward_propagation(X, parameters):\n",
    "    \"\"\"\n",
    "    Implements the forward propagation for the model:\n",
    "    CONV2D -> RELU -> MAXPOOL -> CONV2D -> RELU -> MAXPOOL -> FLATTEN -> FULLYCONNECTED\n",
    "    \n",
    "    Arguments:\n",
    "    X -- input dataset placeholder, of shape (input size, number of examples)\n",
    "    parameters -- python dictionary containing your parameters \"W1\", \"W2\"\n",
    "                  the shapes are given in initialize_parameters\n",
    "\n",
    "    Returns:\n",
    "    Z3 -- the output of the last LINEAR unit\n",
    "    \"\"\"\n",
    "    \n",
    "    # Retrieve the parameters from the dictionary \"parameters\" \n",
    "    W1 = parameters['W1']\n",
    "    W2 = parameters['W2']\n",
    "    \n",
    "    ### START CODE HERE ###\n",
    "    # CONV2D: stride of 1, padding 'SAME'\n",
    "    Z1 = tf.nn.conv2d(X,W1, strides = [1,1,1,1], padding = 'SAME')#None\n",
    "    # RELU\n",
    "    A1 = tf.nn.relu(Z1)#None\n",
    "    # MAXPOOL: window 8x8, sride 8, padding 'SAME'\n",
    "    P1 = tf.nn.max_pool(A1, ksize = [1,8,1,1], strides = [1,8,1,1], padding = 'SAME')#None\n",
    "    # CONV2D: filters W2, stride 1, padding 'SAME'\n",
    "    Z2 = tf.nn.conv2d(P1,W2, strides = [1,1,1,1], padding = 'SAME')#None\n",
    "    # RELU\n",
    "    A2 = tf.nn.relu(Z2)\n",
    "    # MAXPOOL: window 4x4, stride 4, padding 'SAME'\n",
    "    P2 = tf.nn.max_pool(A2, ksize = [1,4,1,1], strides = [1,4,1,1], padding = 'SAME')#None\n",
    "    # FLATTEN\n",
    "    P2 = tf.contrib.layers.flatten(P2)#None\n",
    "    # FULLY-CONNECTED without non-linear activation function (not not call softmax).\n",
    "    # 6 neurons in output layer. Hint: one of the arguments should be \"activation_fn=None\" \n",
    "    Z3 = tf.contrib.layers.fully_connected(P2, num_outputs=2,activation_fn=None)\n",
    "    ### END CODE HERE ###\n",
    "\n",
    "    return Z3\n",
    "\n",
    "def compute_cost(Z3, Y,parameters,lambd,m):\n",
    "    \"\"\"\n",
    "    Computes the cost\n",
    "    \n",
    "    Arguments:\n",
    "    Z3 -- output of forward propagation (output of the last LINEAR unit), of shape (6, number of examples)\n",
    "    Y -- \"true\" labels vector placeholder, same shape as Z3\n",
    "    \n",
    "    Returns:\n",
    "    cost - Tensor of the cost function\n",
    "    \"\"\"\n",
    "    \n",
    "    ### START CODE HERE ### (1 line of code)\n",
    "    W1 = parameters[\"W1\"]\n",
    "    W2 = parameters[\"W2\"]\n",
    "    \n",
    "    #regularizer = tf.add(tf.nn.l2_loss(W1)+tf.nn.l2_loss(W2))  \n",
    "    cost_cross_entropy = tf.reduce_mean(tf.nn.softmax_cross_entropy_with_logits(logits = Z3, labels = Y))\n",
    "\n",
    "    \n",
    "    #L2_reg_cost=(np.sum(np.square(W1))+np.sum(np.square(W2)))*lambd/(m*2)\n",
    "    regularizer = tf.add(tf.nn.l2_loss(W1),tf.nn.l2_loss(W2))\n",
    "    # L2_regularization_cost = (np.sum(np.square(W1))+np.sum(np.square(W2))+np.sum(np.square(W3)))*lambd/(m*2)\n",
    "    #cost=cost_cross_entropy+L2_reg_cost\n",
    "    cost=tf.reduce_mean(cost_cross_entropy  + lambd * regularizer/m)\n",
    "    ### END CODE HERE ###\n",
    "\n",
    "    return cost"
   ]
  },
  {
   "cell_type": "code",
   "execution_count": 318,
   "metadata": {},
   "outputs": [],
   "source": [
    "def model(X_train, Y_train, X_valid,Y_valid, X_test, Y_test, learning_rate = 0.009,\n",
    "          num_epochs = 100, minibatch_size = 10, print_cost = True,filtersize1=32,filtersize2=64,lambd=0):\n",
    "    \"\"\"\n",
    "    Implements a three-layer ConvNet in Tensorflow:\n",
    "    CONV2D -> RELU -> MAXPOOL -> CONV2D -> RELU -> MAXPOOL -> FLATTEN -> FULLYCONNECTED\n",
    "    \n",
    "    Arguments:\n",
    "    X_train -- training set, of shape (None, 64, 64, 3)\n",
    "    Y_train -- test set, of shape (None, n_y = 6)\n",
    "    X_test -- training set, of shape (None, 64, 64, 3)\n",
    "    Y_test -- test set, of shape (None, n_y = 6)\n",
    "    learning_rate -- learning rate of the optimization\n",
    "    num_epochs -- number of epochs of the optimization loop\n",
    "    minibatch_size -- size of a minibatch\n",
    "    print_cost -- True to print the cost every 100 epochs\n",
    "    \n",
    "    Returns:\n",
    "    train_accuracy -- real number, accuracy on the train set (X_train)\n",
    "    test_accuracy -- real number, testing accuracy on the test set (X_test)\n",
    "    parameters -- parameters learnt by the model. They can then be used to predict.\n",
    "    \"\"\"\n",
    "    \n",
    "    ops.reset_default_graph()                         # to be able to rerun the model without overwriting tf variables\n",
    "    tf.set_random_seed(1)                             # to keep results consistent (tensorflow seed)\n",
    "    seed = 3                                          # to keep results consistent (numpy seed)\n",
    "    (m, n_H0, n_W0, n_C0) = X_train.shape             \n",
    "    n_y = Y_train.shape[1]                            \n",
    "    costs = []                                        # To keep track of the cost\n",
    "    \n",
    "    # Create Placeholders of the correct shape\n",
    "    ### START CODE HERE ### (1 line)\n",
    "    X, Y = create_placeholders(n_H0, n_W0, n_C0, n_y,filtersize1,filtersize2)#None\n",
    "    ### END CODE HERE ###\n",
    "\n",
    "    # Initialize parameters\n",
    "    ### START CODE HERE ### (1 line)\n",
    "    parameters = initialize_parameters(filtersize1,filtersize2)#None\n",
    "    ### END CODE HERE ###\n",
    "    \n",
    "    # Forward propagation: Build the forward propagation in the tensorflow graph\n",
    "    ### START CODE HERE ### (1 line)\n",
    "    Z3 = forward_propagation(X, parameters)#None\n",
    "    ### END CODE HERE ###\n",
    "    \n",
    "    # Cost function: Add cost function to tensorflow graph\n",
    "    ### START CODE HERE ### (1 line)\n",
    "\n",
    "    cost = compute_cost(Z3, Y,parameters,lambd,m)#None\n",
    "    ### END CODE HERE ###\n",
    "    \n",
    "    # Backpropagation: Define the tensorflow optimizer. Use an AdamOptimizer that minimizes the cost.\n",
    "    ### START CODE HERE ### (1 line)\n",
    "    optimizer = tf.train.AdamOptimizer(learning_rate = learning_rate).minimize(cost)#None\n",
    "    ### END CODE HERE ###\n",
    "    \n",
    "    # Initialize all the variables globally\n",
    "    init = tf.global_variables_initializer()\n",
    "     \n",
    "    # Start the session to compute the tensorflow graph\n",
    "    with tf.Session() as sess:\n",
    "        \n",
    "        # Run the initialization\n",
    "        sess.run(init)\n",
    "        \n",
    "        # Do the training loop\n",
    "        for epoch in range(num_epochs):\n",
    "          \n",
    "            minibatch_cost = 0.\n",
    "            num_minibatches = int(m / minibatch_size) # number of minibatches of size minibatch_size in the train set\n",
    "            seed = seed + 1\n",
    "            #print(Y_train.shape)\n",
    "            minibatches = random_mini_batches(X_train, Y_train, minibatch_size, seed)\n",
    "\n",
    "            for minibatch in minibatches:\n",
    "\n",
    "                # Select a minibatch\n",
    "                (minibatch_X, minibatch_Y) = minibatch\n",
    "                # IMPORTANT: The line that runs the graph on a minibatch.\n",
    "                # Run the session to execute the optimizer and the cost, the feedict should contain a minibatch for (X,Y).\n",
    "                ### START CODE HERE ### (1 line)\n",
    "                _ , temp_cost = sess.run([optimizer, cost], feed_dict={X: minibatch_X, Y: minibatch_Y})#None\n",
    "                ### END CODE HERE ###\n",
    "                \n",
    "                minibatch_cost += temp_cost / num_minibatches\n",
    "                \n",
    "\n",
    "            # Print the cost every epoch\n",
    "            if print_cost == True and epoch % 5 == 0:\n",
    "                print (\"Cost after epoch %i: %f\" % (epoch, minibatch_cost))\n",
    "            if print_cost == True and epoch % 1 == 0:\n",
    "                costs.append(minibatch_cost)\n",
    "        \n",
    "        \n",
    "        # plot the cost\n",
    "        plt.plot(np.squeeze(costs))\n",
    "        plt.ylabel('cost')\n",
    "        plt.xlabel('iterations (per tens)')\n",
    "        plt.title(\"Learning rate =\" + str(learning_rate))\n",
    "        plt.show()\n",
    "\n",
    "        # Calculate the correct predictions\n",
    "        predict_op = tf.argmax(Z3, 1)\n",
    "        \n",
    "        correct_prediction = tf.equal(predict_op, tf.argmax(Y, 1))\n",
    "       \n",
    "        # Calculate accuracy on the test set\n",
    "        accuracy = tf.reduce_mean(tf.cast(correct_prediction, \"float\"))\n",
    "        predictions_cast=tf.cast(correct_prediction, \"float\")\n",
    "        print(accuracy)\n",
    "        train_accuracy = accuracy.eval({X: X_train, Y: Y_train})\n",
    "        valid_accuracy = accuracy.eval({X: X_valid, Y: Y_valid})\n",
    "        test_accuracy = accuracy.eval({X: X_test, Y: Y_test})\n",
    "        print(\"Train Accuracy:\", train_accuracy)\n",
    "        print(\"Valid Accuracy:\", valid_accuracy)\n",
    "        print(\"Test Accuracy:\", test_accuracy)\n",
    "                \n",
    "        return train_accuracy, valid_accuracy,test_accuracy"
   ]
  },
  {
   "cell_type": "code",
   "execution_count": 320,
   "metadata": {
    "scrolled": true
   },
   "outputs": [
    {
     "name": "stdout",
     "output_type": "stream",
     "text": [
      "Cost after epoch 0: 0.892415\n",
      "Cost after epoch 5: 0.696504\n",
      "Cost after epoch 10: 0.694512\n",
      "Cost after epoch 15: 0.694600\n",
      "Cost after epoch 20: 0.694952\n",
      "Cost after epoch 25: 0.694699\n",
      "Cost after epoch 30: 0.694766\n",
      "Cost after epoch 35: 0.694139\n",
      "Cost after epoch 40: 0.694415\n",
      "Cost after epoch 45: 0.694270\n",
      "Cost after epoch 50: 0.696653\n",
      "Cost after epoch 55: 0.695135\n",
      "Cost after epoch 60: 0.694901\n",
      "Cost after epoch 65: 0.695132\n",
      "Cost after epoch 70: 0.695742\n",
      "Cost after epoch 75: 0.694530\n",
      "Cost after epoch 80: 0.694467\n",
      "Cost after epoch 85: 0.695406\n",
      "Cost after epoch 90: 0.694871\n",
      "Cost after epoch 95: 0.694537\n"
     ]
    },
    {
     "data": {
      "image/png": "[encoded data removed]",
      "text/plain": [
       "<matplotlib.figure.Figure at 0x20c3e1aea20>"
      ]
     },
     "metadata": {},
     "output_type": "display_data"
    },
    {
     "name": "stdout",
     "output_type": "stream",
     "text": [
      "Tensor(\"Mean_2:0\", shape=(), dtype=float32)\n",
      "Train Accuracy: 0.5219665\n",
      "Valid Accuracy: 0.50490195\n",
      "Test Accuracy: 0.47572815\n"
     ]
    }
   ],
   "source": [
    "train_accuracy_ref, valid_accuracy_ref,test_accuracy_ref = model(X_train, Y_train, X_valid,Y_valid, X_test, Y_test,filtersize1=32,filtersize2=64,lambd=0)\n",
    "#filtersize1=32,filtersize2=64\n"
   ]
  },
  {
   "cell_type": "code",
   "execution_count": null,
   "metadata": {},
   "outputs": [],
   "source": [
    "#print(train_accuracy_ref)\n",
    "#print(parameters)\n",
    "#print(predictions_cast)"
   ]
  },
  {
   "cell_type": "markdown",
   "metadata": {},
   "source": [
    "## Hyperparameters tuning"
   ]
  },
  {
   "cell_type": "code",
   "execution_count": null,
   "metadata": {},
   "outputs": [],
   "source": [
    "Results=[]\n",
    "for num in range(0,NumSamples):\n",
    "    alpha_h,lambda_h,filter1_h,filter2_h,minibatch_h=HyperParameters[num]\n",
    "    print(alpha_h,lambda_h,int(filter1_h),int(filter2_h),int(minibatch_h))\n",
    "    train_accuracy_h, valid_accuarcy_h, test_accuracy_h= model(\n",
    "        X_train, Y_train, X_valid,Y_valid, X_test, Y_test,learning_rate = alpha_h,filtersize1=int(filter1_h),filtersize2=int(filter2_h),\n",
    "        lambd=lambda_h,minibatch_size=int(minibatch_h))\n",
    "    \n",
    "    Results.append([train_accuracy_h, valid_accuarcy_h,test_accuracy_h])"
   ]
  }
 ],
 "metadata": {
  "kernelspec": {
   "display_name": "Python 3",
   "language": "python",
   "name": "python3"
  },
  "language_info": {
   "codemirror_mode": {
    "name": "ipython",
    "version": 3
   },
   "file_extension": ".py",
   "mimetype": "text/x-python",
   "name": "python",
   "nbconvert_exporter": "python",
   "pygments_lexer": "ipython3",
   "version": "3.6.4"
  }
 },
 "nbformat": 4,
 "nbformat_minor": 2
}
