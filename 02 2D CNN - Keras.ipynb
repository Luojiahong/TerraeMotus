{
 "cells": [
  {
   "cell_type": "markdown",
   "metadata": {},
   "source": [
    "# Introduction\n",
    "In this study, we will start by studying the applicability of using the raw data from the seismometer as an input to the neural network for recognition and prediction of earthquakes. The raw data is a time series data of 100 Hz frequency which discribes the vertical motion of the earth. The figure below show a simple illustration of how it is measured. Note that the current tools rely on a more sophisticated and accurate tools but the concept is still the same.\n",
    "\n",
    "As mentioned above, two problems are studied described in the figure above. Obviously, the second problem is more complicated as there is no known method to do this. In fact, it is not known that the signal contain information for the prediction. The two problems are:\n",
    "1. The recognition of the earthquakes signal after they occur.\n",
    "2. The prediction of earthquakes signal before they occur.\n",
    "\n",
    "<img src=\"Figures/For Notbooks/Seismometer.png\" width=\"700\">"
   ]
  },
  {
   "cell_type": "markdown",
   "metadata": {},
   "source": [
    "# Dataset\n",
    "The dataset was harvested from servers specifically for this study. After compiling numerous datasets with varying [minimum earthquake magnitude](https://en.wikipedia.org/wiki/Richter_magnitude_scale), lateral coverage, and number of stations, this study area ([The Geysers](https://en.wikipedia.org/wiki/The_Geysers)) of the  is specifically chosen because:\n",
    "1. It contains a spatially dense seismometers coverage.\n",
    "2. The seismicmometers have been operating for a relatively long time.\n",
    "3. The area is tectonically active because of the existance of the geysers.\n",
    "4. Enhanced geothermal system are operating in the area creating more earthquakes.\n",
    "\n",
    "<img src=\"Figures/For Notbooks/Map.png\" width=\"600\">\n"
   ]
  },
  {
   "cell_type": "markdown",
   "metadata": {},
   "source": [
    "# Package and helper functions\n",
    "We will use [Keras](https://keras.io/) to build the neural network, [Matplotlib](https://matplotlib.org/) for plotting results if needed, and [Numpy](http://www.numpy.org/) for matrix manipulation."
   ]
  },
  {
   "cell_type": "code",
   "execution_count": 30,
   "metadata": {},
   "outputs": [],
   "source": [
    "# Numpy (The God package)\n",
    "import numpy as np\n",
    "\n",
    "# MatplotLib\n",
    "import matplotlib.pyplot as plt\n",
    "from matplotlib import mlab\n",
    "from matplotlib.colors import Normalize\n",
    "\n",
    "# Other\n",
    "import math as M\n",
    "from skimage.transform import resize\n",
    "from obspy.imaging.cm import obspy_sequential\n",
    "\n",
    "# Keras\n",
    "from keras.callbacks import ModelCheckpoint\n",
    "from keras.models import Model, load_model, Sequential\n",
    "from keras.layers import Dense, Activation, Dropout, Input, Masking, TimeDistributed, LSTM, Conv1D, Conv2D\n",
    "from keras.layers import GRU, Bidirectional, BatchNormalization, Reshape, Flatten, MaxPooling1D, MaxPooling2D\n",
    "from keras.optimizers import Adam\n",
    "\n",
    "# Sklearn\n",
    "from sklearn.metrics import confusion_matrix"
   ]
  },
  {
   "cell_type": "markdown",
   "metadata": {},
   "source": [
    "We will use this cell to create some helper functions that will be used in the analysis. We decided to have all the functions needed in one script to facilitate readibility and understanding."
   ]
  },
  {
   "cell_type": "code",
   "execution_count": 31,
   "metadata": {},
   "outputs": [],
   "source": [
    "def splitDataset2D(X, Y, proportions=np.array([.8, .2])):\n",
    "    \"\"\"\n",
    "    Splits the dataset into a number of smaller datasets with certain given ratios.\n",
    "    \n",
    "    Argument:\n",
    "    X -- Input dataset\n",
    "    Y -- Labels\n",
    "\n",
    "    Returns:\n",
    "    Xs -- Splitted dataset (dictionary with numbers as keys)\n",
    "    Ys -- Splitted labels  (dictionary with numbers as keys)\n",
    "    \"\"\"\n",
    "    \n",
    "    # Make sure proportions are a numpy array\n",
    "    proportions = np.array(proportions)\n",
    "    \n",
    "    # Handle an option to provide one ratio\n",
    "    if (np.sum(proportions)!=1):\n",
    "        ratios = np.concatenate((proportions, np.array([1-np.sum(proportions)])))\n",
    "        \n",
    "    # Create the random indices\n",
    "    m = X.shape[0] \n",
    "    randomIndecies = np.random.permutation(m)\n",
    "    \n",
    "    # Calculate the number of boundaries of indecies in each set\n",
    "    nSamples = np.round(proportions * m)\n",
    "    nSamples = np.concatenate((np.array([0]), np.round(proportions * m)))\n",
    "    nSamples = np.cumsum(nSamples)\n",
    "    nSamples = nSamples.astype(int)\n",
    "    \n",
    "    # Extract teh sets\n",
    "    Xs = []\n",
    "    Ys = []\n",
    "    for i in range(0, proportions.size):\n",
    "        chosenSamples = randomIndecies[nSamples[i]:nSamples[i+1]]\n",
    "        Xs.append(X[chosenSamples, :, :, :])\n",
    "        Ys.append(Y[chosenSamples, :])\n",
    "        \n",
    "    return Xs, Ys\n",
    "\n",
    "# ======================================================================\n",
    "def normalizeData(data, axis=None, keepdims=True):\n",
    "    \"\"\"\n",
    "    Computes the zscore of data along a certain axis.\n",
    "    \n",
    "    Argument:\n",
    "    data -- Data to be normalized\n",
    "    axis -- Axis to normalized (if no axis is given, we\n",
    "\n",
    "    Returns:\n",
    "    normalizedData -- normalized dataset\n",
    "    Ys -- Splitted labels  (dictionary with numbers as keys)\n",
    "    \"\"\"\n",
    "    \n",
    "    # Zscore normalization\n",
    "    normalizedData = (data - np.mean(data, axis = axis, keepdims= keepdims)) / np.std(data, axis = axis, keepdims = keepdims)\n",
    "    return normalizedData\n",
    "\n",
    "# ======================================================================\n",
    "def spectrogramAnalysis(signal, fs, newShape=None, isNormalize=False, isPlot=False):\n",
    "    \"\"\"\n",
    "    Runs the spectogram analysis, resize, and normalize in one go.\n",
    "    \n",
    "    Argument:\n",
    "    signal      -- Data to be analyzed (1D)\n",
    "    fs          -- Sampling frequency\n",
    "    newSahpe    -- New size to scale histogram\n",
    "    isNormalize -- Normalize the result or not\n",
    "    isPlot      -- To show the results in a figure\n",
    "\n",
    "    Returns:\n",
    "    specgram -- Histogram (2D image, 1 channel)\n",
    "    freq     -- Frequency vector\n",
    "    time     -- Time vector\n",
    "    \"\"\"\n",
    "    \n",
    "    specgram, freq, time = getSpectrogram(signal, fs, dbscale=True)\n",
    "    \n",
    "    if (newShape != None):\n",
    "        specgram = resize(specgram,newShape)\n",
    "        \n",
    "    if (isNormalize == True):\n",
    "        specgram = normalizeData(specgram)\n",
    "        \n",
    "    if (isPlot == True):\n",
    "        fig = plt.figure(num=None, figsize=(10, 8), dpi=100)\n",
    "        plt.imshow(specgram)\n",
    "        plt.gca().invert_yaxis()\n",
    "        \n",
    "    return specgram, freq, time\n",
    "\n",
    "# ======================================================================\n",
    "def plotAccuracy(history, isError=True):\n",
    "    trainValues = np.array(history.history[\"acc\"])\n",
    "    validValues = np.array(history.history[\"val_acc\"])\n",
    "    \n",
    "    if (isError == True):\n",
    "        trainValues = 1-trainValues\n",
    "        validValues = 1-validValues\n",
    "    \n",
    "    trainAxe, = plt.plot(trainValues, label=\"Training set\")\n",
    "    validAxe, = plt.plot(validValues, label=\"Validation set\")\n",
    "    \n",
    "    if (isError == True):\n",
    "        plt.ylabel('Error (fraction)')\n",
    "    else:\n",
    "        plt.ylabel('Accuracy (fraction)')\n",
    "\n",
    "    plt.xlabel('Epoch')\n",
    "    \n",
    "    plt.legend(handles=[trainAxe, validAxe])\n",
    "\n",
    "    \n",
    "# ======================================================================\n",
    "def getSpectrogram(data, samp_rate, per_lap=0.9, wlen=None, log=False,\n",
    "                outfile=None, fmt=None, axes=None, dbscale=False,\n",
    "                mult=8.0, zorder=None, title=None,\n",
    "                show=True, sphinx=False, clip=[0.0, 1.0]):\n",
    "    \"\"\"\n",
    "    Computes Spectogram of a 1D signal. This functions are based on Obspy internal functions\n",
    "    \"\"\"\n",
    "    \n",
    "    # enforce float for samp_rate\n",
    "    samp_rate = float(samp_rate)\n",
    "\n",
    "    # set wlen from samp_rate if not specified otherwise\n",
    "    if not wlen:\n",
    "        wlen = samp_rate / 100.\n",
    "\n",
    "    npts = len(data)\n",
    "    # nfft needs to be an integer, otherwise a deprecation will be raised\n",
    "    # XXX add condition for too many windows => calculation takes for ever\n",
    "    nfft = int(_nearest_pow_2(wlen * samp_rate))\n",
    "    if nfft > npts:\n",
    "        nfft = int(_nearest_pow_2(npts / 8.0))\n",
    "\n",
    "    if mult is not None:\n",
    "        mult = int(_nearest_pow_2(mult))\n",
    "        mult = mult * nfft\n",
    "    nlap = int(nfft * float(per_lap))\n",
    "\n",
    "    data = data - data.mean()\n",
    "    end = npts / samp_rate\n",
    "\n",
    "    \n",
    "    specgram, freq, time = mlab.specgram(data, Fs=samp_rate, NFFT=nfft,\n",
    "                                         pad_to=mult, noverlap=nlap)\n",
    "    # db scale and remove zero/offset for amplitude\n",
    "    if dbscale:\n",
    "        specgram = 10 * np.log10(specgram[1:, :])\n",
    "    else:\n",
    "        specgram = np.sqrt(specgram[1:, :])\n",
    "    freq = freq[1:]\n",
    "\n",
    "    vmin, vmax = clip\n",
    "    if vmin < 0 or vmax > 1 or vmin >= vmax:\n",
    "        msg = \"Invalid parameters for clip option.\"\n",
    "        raise ValueError(msg)\n",
    "    _range = float(specgram.max() - specgram.min())\n",
    "    vmin = specgram.min() + vmin * _range\n",
    "    vmax = specgram.min() + vmax * _range\n",
    "    norm = Normalize(vmin, vmax, clip=True)\n",
    "    \n",
    "    return specgram, freq, time\n",
    "\n",
    "# ======================================================================\n",
    "def _nearest_pow_2(x):\n",
    "    \"\"\"\n",
    "    Finds power of two nearest to x.\n",
    "\n",
    "    Argument:\n",
    "    x -- number\n",
    "    \n",
    "    Returns:\n",
    "    a/b -- Nearest power of 2 to x\n",
    "    \"\"\"\n",
    "    a = M.pow(2, M.ceil(np.log2(x)))\n",
    "    b = M.pow(2, M.floor(np.log2(x)))\n",
    "    if abs(a - x) < abs(b - x):\n",
    "        return a\n",
    "    else:\n",
    "        return b"
   ]
  },
  {
   "cell_type": "markdown",
   "metadata": {},
   "source": [
    "# Dataset"
   ]
  },
  {
   "cell_type": "markdown",
   "metadata": {},
   "source": [
    "Now, we will load the dataset. The dataset is already saved in binary numpy format using another script written specifically for this study. The data loaded is the time series data and the labels. Note that we have two datasets."
   ]
  },
  {
   "cell_type": "code",
   "execution_count": 42,
   "metadata": {},
   "outputs": [],
   "source": [
    "folderName = \"Datasets\"\n",
    "datasetNumber = 9\n",
    "testPercent   = .1\n",
    "fs = 100\n",
    "spectogramShape = [64, 128]\n",
    "\n",
    "data = np.load(folderName + \"\\Data_D\" + str(datasetNumber) + \".npy\")\n",
    "label = np.load(folderName + \"\\Label_D\" + str(datasetNumber) + \".npy\")\n",
    "\n",
    "# for recognition dataset (12,13,14)\n",
    "if (datasetNumber == 12 or datasetNumber == 13 or datasetNumber == 14):\n",
    "    data = data[25000:35000,:,:]\n",
    "\n",
    "# for prediction dataset (9,10,11)\n",
    "if (datasetNumber == 9 or datasetNumber == 10 or datasetNumber == 11):\n",
    "    data = data[29500:30000,:,:]"
   ]
  },
  {
   "cell_type": "markdown",
   "metadata": {},
   "source": [
    "We will calculate the spectogram for each 1D signal. The spectogram images are then collected as a dataset that will be used in the analysis."
   ]
  },
  {
   "cell_type": "code",
   "execution_count": 33,
   "metadata": {},
   "outputs": [
    {
     "name": "stderr",
     "output_type": "stream",
     "text": [
      "C:\\Anaconda3\\lib\\site-packages\\skimage\\transform\\_warps.py:84: UserWarning: The default mode, 'constant', will be changed to 'reflect' in skimage 0.15.\n",
      "  warn(\"The default mode, 'constant', will be changed to 'reflect' in \"\n"
     ]
    },
    {
     "data": {
      "image/png": "[encoded data removed]",
      "text/plain": [
       "<matplotlib.figure.Figure at 0x2bda1833f98>"
      ]
     },
     "metadata": {},
     "output_type": "display_data"
    }
   ],
   "source": [
    "specgram, freq, time = spectrogramAnalysis(data[:,80,0], fs, spectogramShape, isPlot=True)"
   ]
  },
  {
   "cell_type": "code",
   "execution_count": 34,
   "metadata": {},
   "outputs": [
    {
     "name": "stderr",
     "output_type": "stream",
     "text": [
      "C:\\Anaconda3\\lib\\site-packages\\skimage\\transform\\_warps.py:84: UserWarning: The default mode, 'constant', will be changed to 'reflect' in skimage 0.15.\n",
      "  warn(\"The default mode, 'constant', will be changed to 'reflect' in \"\n"
     ]
    }
   ],
   "source": [
    "# Calculate all spectrograms\n",
    "dataSpectrogram = np.zeros((data.shape[1], spectogramShape[0], spectogramShape[1], data.shape[2]))\n",
    "for i in range(data.shape[1]):\n",
    "    for k in range(data.shape[2]):\n",
    "        dataToAnalyze = data[:,i,k]\n",
    "        specgram, freq, time = spectrogramAnalysis(dataToAnalyze, fs, spectogramShape)\n",
    "        dataSpectrogram[i,:, :,k] = specgram"
   ]
  },
  {
   "cell_type": "code",
   "execution_count": 35,
   "metadata": {},
   "outputs": [],
   "source": [
    "# Calculate the training percentage\n",
    "trainingPercent = 1 - testPercent;\n",
    "\n",
    "# Split the dataset\n",
    "Xs, Ys = splitDataset2D(dataSpectrogram, label, proportions=[trainingPercent, testPercent])\n",
    "\n",
    "# Get training data\n",
    "xTrain = Xs[0]\n",
    "yTrain = Ys[0][:,0]\n",
    "\n",
    "# Get test data\n",
    "xTest = Xs[1]\n",
    "yTest = Ys[1][:,0]"
   ]
  },
  {
   "cell_type": "markdown",
   "metadata": {},
   "source": [
    "# Neural network model\n",
    "\n",
    "The model that will be used for this 1D convolutional network is as discribed in the figure."
   ]
  },
  {
   "cell_type": "code",
   "execution_count": 36,
   "metadata": {},
   "outputs": [
    {
     "name": "stdout",
     "output_type": "stream",
     "text": [
      "_________________________________________________________________\n",
      "Layer (type)                 Output Shape              Param #   \n",
      "=================================================================\n",
      "input_9 (InputLayer)         (None, 64, 128, 1)        0         \n",
      "_________________________________________________________________\n",
      "conv2d_33 (Conv2D)           (None, 64, 125, 16)       80        \n",
      "_________________________________________________________________\n",
      "max_pooling2d_33 (MaxPooling (None, 64, 31, 16)        0         \n",
      "_________________________________________________________________\n",
      "batch_normalization_33 (Batc (None, 64, 31, 16)        64        \n",
      "_________________________________________________________________\n",
      "activation_33 (Activation)   (None, 64, 31, 16)        0         \n",
      "_________________________________________________________________\n",
      "dropout_17 (Dropout)         (None, 64, 31, 16)        0         \n",
      "_________________________________________________________________\n",
      "conv2d_34 (Conv2D)           (None, 58, 31, 32)        2080      \n",
      "_________________________________________________________________\n",
      "max_pooling2d_34 (MaxPooling (None, 29, 31, 32)        0         \n",
      "_________________________________________________________________\n",
      "batch_normalization_34 (Batc (None, 29, 31, 32)        128       \n",
      "_________________________________________________________________\n",
      "activation_34 (Activation)   (None, 29, 31, 32)        0         \n",
      "_________________________________________________________________\n",
      "dropout_18 (Dropout)         (None, 29, 31, 32)        0         \n",
      "_________________________________________________________________\n",
      "conv2d_35 (Conv2D)           (None, 29, 22, 32)        4128      \n",
      "_________________________________________________________________\n",
      "max_pooling2d_35 (MaxPooling (None, 29, 11, 32)        0         \n",
      "_________________________________________________________________\n",
      "batch_normalization_35 (Batc (None, 29, 11, 32)        128       \n",
      "_________________________________________________________________\n",
      "activation_35 (Activation)   (None, 29, 11, 32)        0         \n",
      "_________________________________________________________________\n",
      "conv2d_36 (Conv2D)           (None, 17, 11, 32)        4128      \n",
      "_________________________________________________________________\n",
      "max_pooling2d_36 (MaxPooling (None, 8, 11, 32)         0         \n",
      "_________________________________________________________________\n",
      "batch_normalization_36 (Batc (None, 8, 11, 32)         128       \n",
      "_________________________________________________________________\n",
      "activation_36 (Activation)   (None, 8, 11, 32)         0         \n",
      "_________________________________________________________________\n",
      "flatten_9 (Flatten)          (None, 2816)              0         \n",
      "_________________________________________________________________\n",
      "dense_9 (Dense)              (None, 1)                 2817      \n",
      "=================================================================\n",
      "Total params: 13,681\n",
      "Trainable params: 13,457\n",
      "Non-trainable params: 224\n",
      "_________________________________________________________________\n"
     ]
    }
   ],
   "source": [
    "def constructModel(inputShape):\n",
    "    \"\"\"\n",
    "    Function creating the model's graph in Keras.\n",
    "    \n",
    "    Argument:\n",
    "    input_shape -- shape of the model's input data (using Keras conventions)\n",
    "\n",
    "    Returns:\n",
    "    model -- Keras model instance\n",
    "    \"\"\"\n",
    "    \n",
    "    xInput = Input(shape = inputShape)\n",
    "    \n",
    "    X = Conv2D(filters=16, kernel_size=[1,4], strides=1, dilation_rate=1)(xInput)        \n",
    "    X = MaxPooling2D(pool_size=[1,4], strides=None, padding='valid')(X)\n",
    "    X = BatchNormalization()(X)                                            \n",
    "    X = Activation('relu')(X)                                             \n",
    "    X = Dropout(.2)(X)                                                      \n",
    "\n",
    "    X = Conv2D(filters=32, kernel_size=[4,1], strides=1, dilation_rate=2)(X)       \n",
    "    X = MaxPooling2D(pool_size=[2,1], strides=None, padding='valid')(X)\n",
    "    X = BatchNormalization()(X)                        \n",
    "    X = Activation('relu')(X)                             \n",
    "    X = Dropout(.2)(X)\n",
    "    \n",
    "    X = Conv2D(filters=32, kernel_size=[1,4], strides=1, dilation_rate=3)(X)        \n",
    "    X = MaxPooling2D(pool_size=[1,2], strides=None, padding='valid')(X)\n",
    "    X = BatchNormalization()(X)                                            \n",
    "    X = Activation('relu')(X)\n",
    "    \n",
    "    X = Conv2D(filters=32, kernel_size=[4,1], strides=1, dilation_rate=4)(X)       \n",
    "    X = MaxPooling2D(pool_size=[2,1], strides=None, padding='valid')(X)\n",
    "    X = BatchNormalization()(X)                        \n",
    "    X = Activation('relu')(X)    \n",
    "    \n",
    "    X = Flatten()(X)\n",
    "    #X = Dense(2, activation = \"relu\")(X) \n",
    "    X = Dense(1, activation = \"sigmoid\")(X) \n",
    "\n",
    "    model = Model(inputs = xInput, outputs = X)\n",
    "    \n",
    "    return model\n",
    "\n",
    "model = constructModel(inputShape = (xTrain.shape[1], xTrain.shape[2], xTrain.shape[3]))\n",
    "model.summary()"
   ]
  },
  {
   "cell_type": "markdown",
   "metadata": {},
   "source": [
    "# Training the model"
   ]
  },
  {
   "cell_type": "code",
   "execution_count": 38,
   "metadata": {},
   "outputs": [
    {
     "name": "stdout",
     "output_type": "stream",
     "text": [
      "Train on 309 samples, validate on 35 samples\n",
      "Epoch 1/5\n",
      "309/309 [==============================] - 5s 18ms/step - loss: 0.8729 - acc: 0.4628 - val_loss: 0.6973 - val_acc: 0.6000\n",
      "Epoch 2/5\n",
      "309/309 [==============================] - 3s 10ms/step - loss: 0.8811 - acc: 0.5049 - val_loss: 0.6927 - val_acc: 0.5714\n",
      "Epoch 3/5\n",
      "309/309 [==============================] - 3s 11ms/step - loss: 0.7222 - acc: 0.5631 - val_loss: 0.6928 - val_acc: 0.5143\n",
      "Epoch 4/5\n",
      "309/309 [==============================] - 3s 11ms/step - loss: 0.7362 - acc: 0.5340 - val_loss: 0.6875 - val_acc: 0.5143\n",
      "Epoch 5/5\n",
      "309/309 [==============================] - 3s 11ms/step - loss: 0.7279 - acc: 0.5502 - val_loss: 0.6726 - val_acc: 0.5429\n"
     ]
    }
   ],
   "source": [
    "model = constructModel(inputShape = (xTrain.shape[1], xTrain.shape[2], xTrain.shape[3]))\n",
    "opt = Adam(lr=0.001, beta_1=0.9, beta_2=0.999, decay=0.01)\n",
    "model.compile(loss='binary_crossentropy', optimizer=opt, metrics=[\"accuracy\"])\n",
    "history = model.fit(xTrain, yTrain, batch_size = 256, epochs=5, validation_split=.1)"
   ]
  },
  {
   "cell_type": "code",
   "execution_count": 44,
   "metadata": {},
   "outputs": [
    {
     "name": "stdout",
     "output_type": "stream",
     "text": [
      "38/38 [==============================] - 0s 3ms/step\n",
      "Test set accuracy =  0.5000000015685433\n",
      "Guess Accuracy =  0.5392670157068062\n",
      "[[0.36842105 0.18421053]\n",
      " [0.31578947 0.13157895]]\n"
     ]
    },
    {
     "data": {
      "image/png": "[encoded data removed]",
      "text/plain": [
       "<matplotlib.figure.Figure at 0x2bdaa9ab2e8>"
      ]
     },
     "metadata": {},
     "output_type": "display_data"
    }
   ],
   "source": [
    "loss, acc = model.evaluate(xTest, yTest)\n",
    "print(\"Test set accuracy = \", acc)\n",
    "print(\"Guess Accuracy = \", 1-np.sum(label)/label.size)\n",
    "\n",
    "yPred = model.predict(xTest) > .5                      \n",
    "print(confusion_matrix(yTest, yPred)/yTest.size)\n",
    "plotAccuracy(history, False)"
   ]
  }
 ],
 "metadata": {
  "kernelspec": {
   "display_name": "Python 3",
   "language": "python",
   "name": "python3"
  },
  "language_info": {
   "codemirror_mode": {
    "name": "ipython",
    "version": 3
   },
   "file_extension": ".py",
   "mimetype": "text/x-python",
   "name": "python",
   "nbconvert_exporter": "python",
   "pygments_lexer": "ipython3",
   "version": "3.6.4"
  }
 },
 "nbformat": 4,
 "nbformat_minor": 2
}
